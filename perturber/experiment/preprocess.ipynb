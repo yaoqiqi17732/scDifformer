{
 "cells": [
  {
   "cell_type": "code",
   "execution_count": 1,
   "id": "0e71cc03-9cc0-468e-8cba-023e9ba1733d",
   "metadata": {},
   "outputs": [],
   "source": [
    "import os\n",
    "import pandas as pd\n",
    "import numpy as np\n",
    "import scanpy as sc\n",
    "import anndata as ad\n",
    "from pandas import Series, DataFrame"
   ]
  },
  {
   "cell_type": "markdown",
   "id": "43c6a56d-4244-4993-b87f-e17bb61be830",
   "metadata": {},
   "source": [
    "# Token"
   ]
  },
  {
   "cell_type": "markdown",
   "id": "d1776fd3-8885-4c00-8bb0-d0c1ffa61eb4",
   "metadata": {},
   "source": [
    "### pbmc 对于geneformer，每次的数据都需要做这个token处理"
   ]
  },
  {
   "cell_type": "code",
   "execution_count": 2,
   "id": "f2df0231-44f7-4eff-9d73-1cb6e8c65e72",
   "metadata": {},
   "outputs": [
    {
     "name": "stderr",
     "output_type": "stream",
     "text": [
      "/mnt/nfs/wbzhang/geneformer-master/Geneformer/NEW_env/lib/python3.8/site-packages/anndata/compat/__init__.py:229: FutureWarning: Moving element from .uns['neighbors']['distances'] to .obsp['distances'].\n",
      "\n",
      "This is where adjacency matrices should go now.\n",
      "  warn(\n",
      "/mnt/nfs/wbzhang/geneformer-master/Geneformer/NEW_env/lib/python3.8/site-packages/anndata/compat/__init__.py:229: FutureWarning: Moving element from .uns['neighbors']['connectivities'] to .obsp['connectivities'].\n",
      "\n",
      "This is where adjacency matrices should go now.\n",
      "  warn(\n"
     ]
    },
    {
     "name": "stdout",
     "output_type": "stream",
     "text": [
      "6702\n"
     ]
    }
   ],
   "source": [
    "pbmc = sc.read_h5ad('/mnt/nfs/wbzhang/data/perturber/experiment/data/pbmc/train_pbmc.h5ad')\n",
    "\n",
    "name_id = pd.read_csv('/mnt/nfs/wbzhang/data/celltype_annotation/gene_info_table.csv')\n",
    "common_genes = list(set(name_id['gene_name']).intersection(set(pbmc.var_names)))\n",
    "print(len(common_genes))\n",
    "pbmc = pbmc[:, common_genes]"
   ]
  },
  {
   "cell_type": "code",
   "execution_count": 5,
   "id": "a6cbd99a-468d-4d8f-adcd-6a5ebd683519",
   "metadata": {},
   "outputs": [
    {
     "name": "stdout",
     "output_type": "stream",
     "text": [
      "True\n",
      "True\n",
      "True\n",
      "True\n",
      "True\n"
     ]
    }
   ],
   "source": [
    "for i in ['IFIT1', 'IFI6', 'ISG15', 'IFIT3', 'ISG20']:\n",
    "    print(i in common_genes)"
   ]
  },
  {
   "cell_type": "code",
   "execution_count": 7,
   "id": "bc28f23e-dca5-4e2e-ae22-27c21747ccaf",
   "metadata": {},
   "outputs": [],
   "source": [
    "ensembl_id = []\n",
    "index = []\n",
    "ind = 0\n",
    "for gene in pbmc.var_names:\n",
    "    id = name_id[name_id.gene_name == gene].ensembl_id.values[0]\n",
    "    if id in ensembl_id:\n",
    "        pass\n",
    "    else:\n",
    "        index.append(ind)\n",
    "        ensembl_id.append(id)\n",
    "    ind += 1\n",
    "\n",
    "pbmc = pbmc[:, index]\n",
    "pbmc.var_names = ensembl_id\n",
    "pbmc.var['ensembl_id'] = pbmc.var_names"
   ]
  },
  {
   "cell_type": "code",
   "execution_count": null,
   "id": "a0c7793a-4b9c-4770-a0f7-a0b21fcc2507",
   "metadata": {},
   "outputs": [],
   "source": [
    "pbmc = sc.read_h5ad('/mnt/nfs/wbzhang/data/perturber/experiment/data/pbmc/train_pbmc.h5ad')\n",
    "\n",
    "name_id = pd.read_csv('/mnt/nfs/wbzhang/data/celltype_annotation/gene_info_table.csv')\n",
    "common_genes = list(set(name_id['gene_name']).intersection(set(pbmc.var_names)))\n",
    "print(len(common_genes))\n",
    "pbmc = pbmc[:, common_genes]\n",
    "\n",
    "for i in ['IFIT1', 'IFI6', 'ISG15', 'IFIT3', 'ISG20']:\n",
    "    print(i in common_genes)\n",
    "\n",
    "# 将gene_id转换为ensembl_id\n",
    "ensembl_id = []\n",
    "index = []\n",
    "ind = 0\n",
    "for gene in pbmc.var_names:\n",
    "    id = name_id[name_id.gene_name == gene].ensembl_id.values[0]\n",
    "    if id in ensembl_id:\n",
    "        pass\n",
    "    else:\n",
    "        index.append(ind)\n",
    "        ensembl_id.append(id)\n",
    "    ind += 1\n",
    "\n",
    "pbmc = pbmc[:, index]\n",
    "pbmc.var_names = ensembl_id\n",
    "pbmc.var['ensembl_id'] = pbmc.var_names\n",
    "\n",
    "#必须事先保存成 .loom的格式才能去tokenize\n",
    "pbmc.write_loom('/mnt/nfs/wbzhang/data/perturber/experiment/data/pbmc/tokenized_data/pbmc.loom', write_obsm_varm=True)"
   ]
  },
  {
   "cell_type": "markdown",
   "id": "ce8c2242-2c60-4ae1-9f32-6d34fe744ed4",
   "metadata": {},
   "source": [
    "### Tokenize 的代码"
   ]
  },
  {
   "cell_type": "code",
   "execution_count": 13,
   "id": "e41cd8fc-1f30-4696-8adb-1c0d65201ae7",
   "metadata": {},
   "outputs": [
    {
     "name": "stdout",
     "output_type": "stream",
     "text": [
      "Tokenizing /mnt/nfs/wbzhang/data/perturber/experiment/data/pbmc/tokenized_data/pbmc.loom\n",
      "/mnt/nfs/wbzhang/data/perturber/experiment/data/pbmc/tokenized_data/pbmc.loom has no column attribute 'filter_pass'; tokenizing all cells.\n"
     ]
    },
    {
     "data": {
      "application/vnd.jupyter.widget-view+json": {
       "model_id": "4e44e595e6ad416c80f3a354561679ac",
       "version_major": 2,
       "version_minor": 0
      },
      "text/plain": [
       "Map (num_proc=32):   0%|          | 0/16893 [00:00<?, ? examples/s]"
      ]
     },
     "metadata": {},
     "output_type": "display_data"
    },
    {
     "data": {
      "application/vnd.jupyter.widget-view+json": {
       "model_id": "1ba74f9130774c038642aa7772b06401",
       "version_major": 2,
       "version_minor": 0
      },
      "text/plain": [
       "Map (num_proc=32):   0%|          | 0/16893 [00:00<?, ? examples/s]"
      ]
     },
     "metadata": {},
     "output_type": "display_data"
    },
    {
     "data": {
      "application/vnd.jupyter.widget-view+json": {
       "model_id": "cadca7d3536440cab58afcaf773d0735",
       "version_major": 2,
       "version_minor": 0
      },
      "text/plain": [
       "Saving the dataset (0/1 shards):   0%|          | 0/16893 [00:00<?, ? examples/s]"
      ]
     },
     "metadata": {},
     "output_type": "display_data"
    }
   ],
   "source": [
    "from geneformer import TranscriptomeTokenizer\n",
    "data_path = '/mnt/nfs/wbzhang/data/perturber/experiment/data/pbmc/tokenized_data/'\n",
    "#organ_list = ['Kidney', 'Liver', 'Pancreas', 'pbmc']\n",
    "loom_data_directory = data_path\n",
    "output_directory = loom_data_directory\n",
    "output_prefix = 'tokenized_pbmc'\n",
    "tk = TranscriptomeTokenizer({'condition':'condition', \"cell_type\": \"cell_type\", 'mt_frac':'mt_frac'}, nproc=32)\n",
    "tk.tokenize_data(loom_data_directory, output_directory, output_prefix)"
   ]
  },
  {
   "cell_type": "code",
   "execution_count": 14,
   "id": "9bd19b82-602d-4ac7-840b-7db39fbd859e",
   "metadata": {},
   "outputs": [
    {
     "data": {
      "text/plain": [
       "<geneformer.tokenizer.TranscriptomeTokenizer at 0x7f2da4cc54f0>"
      ]
     },
     "execution_count": 14,
     "metadata": {},
     "output_type": "execute_result"
    }
   ],
   "source": [
    "tk"
   ]
  },
  {
   "cell_type": "code",
   "execution_count": 88,
   "id": "04eccba3-126a-446e-bdcf-e8fddc3ea2ab",
   "metadata": {},
   "outputs": [
    {
     "data": {
      "text/plain": [
       "View of AnnData object with n_obs × n_vars = 5500 × 18531\n",
       "    obs: 'cluster', 'guide', 'INTERGENIC1144056', 'INTERGENIC1216445', 'INTERGENIC216151', 'INTERGENIC393453', 'sgCREB1_2', 'sgCREB1_4', 'sgCREB1_5', 'sgE2F4_6', 'sgE2F4_7', 'sgEGR1_2', 'sgEGR1_3', 'sgEGR1_4', 'sgELF1_1', 'sgELF1_2', 'sgELF1_4', 'sgELF1_5', 'sgELK1_1', 'sgELK1_6', 'sgELK1_7', 'sgETS1_3', 'sgETS1_5', 'sgGABPA_1', 'sgGABPA_9', 'sgIRF1_2', 'sgIRF1_3', 'sgNR2C2_2', 'sgNR2C2_3', 'sgNR2C2_5', 'sgYY1_10', 'sgYY1_3', 'batch', 'n_genes', 'n_genes_by_counts', 'n_counts', 'total_counts_mt', 'pct_counts_mt', 'leiden', 'perturbation_name', 'perturbation_type', 'perturbation_value', 'perturbation_unit'\n",
       "    var: 'index', 'n_cells', 'mt', 'n_cells_by_counts', 'mean_counts', 'pct_dropout_by_counts', 'total_counts', 'highly_variable', 'means', 'dispersions', 'dispersions_norm', 'ensembl_id'\n",
       "    uns: 'doi', 'hvg', 'leiden', 'neighbors', 'pca', 'preprocessing_nb_link', 'umap'\n",
       "    obsm: 'X_pca', 'X_umap'\n",
       "    varm: 'PCs'\n",
       "    layers: 'counts'\n",
       "    obsp: 'connectivities', 'distances'"
      ]
     },
     "execution_count": 88,
     "metadata": {},
     "output_type": "execute_result"
    }
   ],
   "source": [
    "dixit"
   ]
  },
  {
   "cell_type": "markdown",
   "id": "67fc603a-bc3e-4b93-b25e-5e7ed982f2e8",
   "metadata": {},
   "source": [
    "# Dixit"
   ]
  },
  {
   "cell_type": "code",
   "execution_count": 21,
   "id": "e896e634-1d15-44b6-bd5a-6ba1f2a607d7",
   "metadata": {},
   "outputs": [
    {
     "name": "stderr",
     "output_type": "stream",
     "text": [
      "/tmp/ipykernel_90828/3707139561.py:6: ImplicitModificationWarning: Trying to modify attribute `.var` of view, initializing view as actual.\n",
      "  dixit.var['ensembl_id'] = list(map(lambda x:x[:15], list(dixit.var['index'])))\n"
     ]
    }
   ],
   "source": [
    "dixit = sc.read_h5ad('/mnt/nfs/wbzhang/gears/GEARS/data/Dixit_2016.h5ad')\n",
    "select_list = list(map(lambda x: x in ['YY1', 'control'], list(dixit.obs['perturbation_name'])))\n",
    "dixit = dixit[select_list]\n",
    "dixit = dixit[list(np.arange(len(dixit))[np.array(dixit.obs['cluster'] == 'tfs_highmoi')])]\n",
    "\n",
    "dixit.var['ensembl_id'] = list(map(lambda x:x[:15], list(dixit.var['index'])))\n",
    "dixit.obs = dixit.obs.rename(columns={'total_counts':'n_counts'})\n",
    "\n",
    "from collections import Counter\n",
    "dixit.write_loom('/mnt/nfs/wbzhang/data/perturber/experiment/data/dixit/dixit.loom', write_obsm_varm=True)"
   ]
  },
  {
   "cell_type": "code",
   "execution_count": 91,
   "id": "94049024-b90f-427c-b8fe-69af23e30f25",
   "metadata": {},
   "outputs": [
    {
     "name": "stdout",
     "output_type": "stream",
     "text": [
      "Tokenizing /mnt/nfs/wbzhang/data/perturber/experiment/data/dixit/dixit.loom\n",
      "/mnt/nfs/wbzhang/data/perturber/experiment/data/dixit/dixit.loom has no column attribute 'filter_pass'; tokenizing all cells.\n"
     ]
    },
    {
     "data": {
      "application/vnd.jupyter.widget-view+json": {
       "model_id": "28070c0c05ce494780801dc73c16e8d8",
       "version_major": 2,
       "version_minor": 0
      },
      "text/plain": [
       "Map (num_proc=32):   0%|          | 0/5500 [00:00<?, ? examples/s]"
      ]
     },
     "metadata": {},
     "output_type": "display_data"
    },
    {
     "data": {
      "application/vnd.jupyter.widget-view+json": {
       "model_id": "f09503f4851143bf84fd01fb8077376b",
       "version_major": 2,
       "version_minor": 0
      },
      "text/plain": [
       "Map (num_proc=32):   0%|          | 0/5500 [00:00<?, ? examples/s]"
      ]
     },
     "metadata": {},
     "output_type": "display_data"
    },
    {
     "data": {
      "application/vnd.jupyter.widget-view+json": {
       "model_id": "c0c6c58038b044ddb491bf5b63cd439f",
       "version_major": 2,
       "version_minor": 0
      },
      "text/plain": [
       "Saving the dataset (0/1 shards):   0%|          | 0/5500 [00:00<?, ? examples/s]"
      ]
     },
     "metadata": {},
     "output_type": "display_data"
    }
   ],
   "source": [
    "from geneformer import TranscriptomeTokenizer\n",
    "data_path = '/mnt/nfs/wbzhang/data/perturber/experiment/data/dixit/'\n",
    "#organ_list = ['Kidney', 'Liver', 'Pancreas', 'pbmc']\n",
    "loom_data_directory = data_path\n",
    "output_directory = loom_data_directory\n",
    "output_prefix = 'tokenized_dixit'\n",
    "tk = TranscriptomeTokenizer({'perturbation_name':'condition'}, nproc=32)\n",
    "tk.tokenize_data(loom_data_directory, output_directory, output_prefix)"
   ]
  }
 ],
 "metadata": {
  "kernelspec": {
   "display_name": "NEW_geneformer",
   "language": "python",
   "name": "new_geneformer"
  },
  "language_info": {
   "codemirror_mode": {
    "name": "ipython",
    "version": 3
   },
   "file_extension": ".py",
   "mimetype": "text/x-python",
   "name": "python",
   "nbconvert_exporter": "python",
   "pygments_lexer": "ipython3",
   "version": "3.8.12"
  }
 },
 "nbformat": 4,
 "nbformat_minor": 5
}
