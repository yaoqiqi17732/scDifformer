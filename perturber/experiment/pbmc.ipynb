{
 "cells": [
  {
   "cell_type": "markdown",
   "id": "f6ace4d1-378b-4ea0-b3b6-410b04996ba9",
   "metadata": {},
   "source": [
    "## 验证实验： pbmc 数据看cos夹角"
   ]
  },
  {
   "cell_type": "code",
   "execution_count": 1,
   "id": "3388f17c-0b09-41b9-ad1c-d16a9249831d",
   "metadata": {},
   "outputs": [],
   "source": [
    "from geneformer import InSilicoPerturber\n",
    "from geneformer import InSilicoPerturberStats\n",
    "from geneformer.tokenizer import TOKEN_DICTIONARY_FILE\n",
    "from datasets import concatenate_datasets\n",
    "import itertools as it\n",
    "import logging\n",
    "import numpy as np\n",
    "import pickle\n",
    "import re\n",
    "import seaborn as sns; sns.set()\n",
    "import torch\n",
    "from collections import defaultdict\n",
    "from datasets import Dataset, load_from_disk\n",
    "from tqdm.notebook import trange\n",
    "from transformers import BertForMaskedLM, BertForTokenClassification, BertForSequenceClassification\n",
    "from collections import OrderedDict\n",
    "from geneformer.in_silico_perturber import downsample_and_sort, \\\n",
    "                                         gen_attention_mask, \\\n",
    "                                         get_model_input_size, \\\n",
    "                                         load_and_filter, \\\n",
    "                                         load_model, \\\n",
    "                                         pad_tensor_list, \\\n",
    "                                         quant_layers, \\\n",
    "                                         pad_tensor, \\\n",
    "                                                                                                                                                                                                                                                                                                                                                                         forward_pass_single_cell, \\\n",
    "                                         make_perturbation_batch, \\\n",
    "                                         quant_cos_sims, \\\n",
    "                                         make_comparison_batch, \\\n",
    "                                         measure_length, \\\n",
    "                                         delete_indices, \\\n",
    "                                         pad_or_truncate_encoding, \\\n",
    "                                         remove_indices_from_emb_batch, \\\n",
    "                                         get_cell_state_avg_embs, \\\n",
    "                                         overexpress_tokens, \\\n",
    "                                         cos_sim_shift, \\\n",
    "                                         mean_nonpadding_embs\n",
    "\n",
    "from collections import Counter\n",
    "import scanpy as sc\n",
    "import anndata as ad\n",
    "import pandas as pd\n",
    "from transformers import Trainer\n",
    "from geneformer import DataCollatorForCellClassification\n",
    "from sklearn.metrics import accuracy_score, f1_score\n",
    "from pandas import Series,DataFrame\n",
    "import random\n",
    "logger = logging.getLogger(__name__)"
   ]
  },
  {
   "cell_type": "code",
   "execution_count": 12,
   "id": "7574e1bc-9c18-4dd8-b2ad-f0c1e2f7c692",
   "metadata": {},
   "outputs": [],
   "source": [
    "# 需要修改的函数， 在geneformer代码的基础上做的修改，不然代码跑不通\n",
    "def get_possible_states(cell_states_to_model):\n",
    "    possible_states = []\n",
    "    for key in [\"start_state\",\"goal_state\"]:\n",
    "        possible_states += [cell_states_to_model[key]]\n",
    "    return possible_states\n",
    "\n",
    "def random_select(input, max_sample=500, seed=2023):\n",
    "    random.seed(seed)\n",
    "    if len(input) <= max_sample:\n",
    "        return input\n",
    "    else:\n",
    "        random_list = random.sample(list(np.arange(len(input))), max_sample)\n",
    "        return input.select(random_list)\n",
    "\n",
    "def cos_sim_shift_ipsc(original_emb, \n",
    "                      minibatch_emb, \n",
    "                      end_emb, \n",
    "                      perturb_group, \n",
    "                      original_minibatch_lengths = None, \n",
    "                      minibatch_lengths = None,\n",
    "                      perturb_method = 'cell'):\n",
    "    cos = torch.nn.CosineSimilarity(dim=2)\n",
    "    \n",
    "    if original_emb.size() != minibatch_emb.size():\n",
    "        logger.error(\n",
    "            f\"Embeddings are not the same dimensions. \" \\\n",
    "            f\"original_emb is {original_emb.size()}. \" \\\n",
    "            f\"minibatch_emb is {minibatch_emb.size()}. \"\n",
    "        )\n",
    "        raise\n",
    "    \n",
    "    if perturb_method == 'cell':\n",
    "        if original_minibatch_lengths is not None:\n",
    "            original_emb = mean_nonpadding_embs(original_emb, original_minibatch_lengths)\n",
    "            end_emb = torch.unsqueeze(end_emb, 1)\n",
    "            origin_v_end = cos(original_emb, end_emb)\n",
    "            origin_v_end = torch.squeeze(origin_v_end)\n",
    "        \n",
    "        if minibatch_lengths is not None:\n",
    "            perturb_emb = mean_nonpadding_embs(minibatch_emb, minibatch_lengths)\n",
    "            perturb_v_end = cos(perturb_emb, end_emb)\n",
    "            perturb_v_end = torch.squeeze(perturb_v_end)\n",
    "    elif perturb_method == 'gene':\n",
    "        origin_v_end = cos(original_emb, end_emb)\n",
    "        perturb_v_end = cos(minibatch_emb, end_emb)\n",
    "    \n",
    "    return [(perturb_v_end - origin_v_end).to('cpu')], [((perturb_v_end - origin_v_end) / origin_v_end * 100).to('cpu')]"
   ]
  },
  {
   "cell_type": "markdown",
   "id": "2d28324d-460e-44f2-b8b7-09abdd74a0ab",
   "metadata": {},
   "source": [
    "### 1. 变量设定\n",
    "* perturb_genes = ['IFIT1','IFI6','ISG15','IFIT3','ISG20']\n",
    "* perturb_ensembl_id = ['ENSG00000185745', 'ENSG00000126709','ENSG00000187608','ENSG00000119917','ENSG00000172183']"
   ]
  },
  {
   "cell_type": "raw",
   "id": "a5166bb0-ec3b-45fb-8a3b-5c74f3ec2251",
   "metadata": {},
   "source": [
    "total_genes = list(gene_token_dict.keys())[2:]\n",
    "gene_names = ['IFIT1','IFI6','ISG15','IFIT3','ISG20']\n",
    "name_id = pd.read_csv('/mnt/nfs/wbzhang/data/celltype_annotation/gene_info_table.csv')\n",
    "ensembl_id = []\n",
    "for gene in gene_names:\n",
    "    id = name_id[name_id.gene_name == gene].ensembl_id.values[0]\n",
    "    ensembl_id.append(id)"
   ]
  },
  {
   "cell_type": "raw",
   "id": "8fb9d8a5-fd4f-4d81-a908-7a9249bd8162",
   "metadata": {},
   "source": [
    "random.sample(list(gene_token_dict.keys())[2:], 5)"
   ]
  },
  {
   "cell_type": "code",
   "execution_count": 155,
   "id": "641a14de-b17a-4589-980e-f8b97192edca",
   "metadata": {},
   "outputs": [
    {
     "name": "stdout",
     "output_type": "stream",
     "text": [
      "['ENSG00000185745', 'ENSG00000126709', 'ENSG00000187608', 'ENSG00000119917', 'ENSG00000172183']\n"
     ]
    }
   ],
   "source": [
    "perturb_type=\"overexpress\" # perturb的类型设置为overexpress\n",
    "perturb_rank_shift=None \n",
    "genes_to_perturb = ['ENSG00000185745', 'ENSG00000126709','ENSG00000187608','ENSG00000119917','ENSG00000172183'] # 需要perturb的gene 的ensembl_id\n",
    "# random.seed(0)\n",
    "# genes_to_perturb = random.sample(list(gene_token_dict.keys())[2:], 5) # random\n",
    "print(genes_to_perturb)\n",
    "combos=0\n",
    "anchor_gene=None\n",
    "model_type=\"diffusion_12L\" # 用的什么模型要指出来，取源文件里面找\n",
    "num_classes = 1\n",
    "emb_mode=\"cell_and_gene\"\n",
    "cell_emb_style=\"mean_pool\"\n",
    "#filter_data={\"cell_type\":['fibroblast']}\n",
    "filter_data=None\n",
    "cell_states_to_model={'state_key': 'condition',\n",
    "                      'start_state': 'control', \n",
    "                      'goal_state': 'stimulated'} #是什么状态要说明\n",
    "max_ncells=2000\n",
    "#cell_inds_to_perturb={'start':0, 'end':500}\n",
    "cell_inds_to_perturb='all'\n",
    "emb_layer=-1\n",
    "forward_batch_size=100 #batchsize要好好设定，不能超出内存\n",
    "nproc=16\n",
    "token_dictionary_file=TOKEN_DICTIONARY_FILE\n",
    "\n",
    "if genes_to_perturb == \"all\":\n",
    "    perturb_group = False\n",
    "else:\n",
    "    perturb_group = True\n",
    "    if (anchor_gene != None) or (combos != 0):\n",
    "        anchor_gene = None\n",
    "        combos = 0\n",
    "        logger.warning( \n",
    "            \"anchor_gene set to None and combos set to 0. \" \\\n",
    "            \"If providing list of genes to perturb, \" \\\n",
    "            \"list of genes_to_perturb will be perturbed together, \"\\\n",
    "            \"without anchor gene or combinations.\")\n",
    "        \n",
    "# load token dictionary (Ensembl IDs:token)\n",
    "with open(token_dictionary_file, \"rb\") as f:\n",
    "    gene_token_dict = pickle.load(f)\n",
    "pad_token_id = gene_token_dict.get(\"<pad>\")\n",
    "\n",
    "if anchor_gene is None:\n",
    "    anchor_token = None\n",
    "else:\n",
    "    try:\n",
    "        anchor_token = [gene_token_dict[anchor_gene]]\n",
    "    except KeyError:\n",
    "        logger.error(\n",
    "            f\"Anchor gene {anchor_gene} not in token dictionary.\"\n",
    "        )\n",
    "        raise\n",
    "\n",
    "if genes_to_perturb == \"all\":\n",
    "    tokens_to_perturb = \"all\"\n",
    "else:\n",
    "    missing_genes = [gene for gene in genes_to_perturb if gene not in gene_token_dict.keys()]\n",
    "    if len(missing_genes) == len(genes_to_perturb):\n",
    "        logger.error(\n",
    "            \"None of the provided genes to perturb are in token dictionary.\"\n",
    "        )\n",
    "        raise\n",
    "    elif len(missing_genes)>0:\n",
    "        logger.warning(\n",
    "            f\"Genes to perturb {missing_genes} are not in token dictionary.\")\n",
    "    tokens_to_perturb = [gene_token_dict.get(gene) for gene in genes_to_perturb]"
   ]
  },
  {
   "cell_type": "markdown",
   "id": "c21d3fea-0e16-407c-91db-38c99c15a7b3",
   "metadata": {},
   "source": [
    "### 2. perturb-data"
   ]
  },
  {
   "cell_type": "code",
   "execution_count": 156,
   "id": "227a7696-a250-4d3b-84f5-78e9a08d66c6",
   "metadata": {},
   "outputs": [
    {
     "name": "stderr",
     "output_type": "stream",
     "text": [
      "Some weights of BertForSequenceClassification were not initialized from the model checkpoint at /mnt/nfs/xz/geneformer/Geneformer34m/examples/pretraining_new_model/output_own/models/230813_170132_geneformer_30M_L12_emb512_SL2048_E3_B12_LR0.0005_LSlinear_WU10000_Oadamw_DS64/models and are newly initialized: ['bert.pooler.dense.weight', 'classifier.bias', 'classifier.weight', 'bert.pooler.dense.bias']\n",
      "You should probably TRAIN this model on a down-stream task to be able to use it for predictions and inference.\n"
     ]
    },
    {
     "name": "stdout",
     "output_type": "stream",
     "text": [
      "Total cell type: {'CD4T', 'FCGR3A+Mono', 'CD8T', 'NK', 'B', 'CD14+Mono', 'Dendritic'}\n",
      "The count of control: 574\n",
      "The count of stimulated: 541\n"
     ]
    },
    {
     "data": {
      "text/plain": [
       "Dataset({\n",
       "    features: ['input_ids', 'condition', 'cell_type', 'mt_frac', 'length'],\n",
       "    num_rows: 1000\n",
       "})"
      ]
     },
     "execution_count": 156,
     "metadata": {},
     "output_type": "execute_result"
    }
   ],
   "source": [
    "model_directory = '/mnt/nfs/xz/diffusion/db/Diffusion-BERT/model_out/230901_025119_model_name_gene_lr_5e-06_seed_42_numsteps_128_sample_Categorical_schedule_mutual_hybridlambda_0.01_wordfreqlambda_0.3_fromscratch_False_timestep_none_ckpts/best_0_14999.th' #diffusion12L\n",
    "model = load_model(model_type, num_classes, model_directory)\n",
    "layer_to_quant = quant_layers(model)+emb_layer #取哪一层的embedding\n",
    "\n",
    "# 读取数据\n",
    "data_path = '/mnt/nfs/wbzhang/data/perturber/experiment/data/pbmc/tokenized_data/tokenized_pbmc.dataset'\n",
    "raw_data = load_from_disk(data_path) \n",
    "print('Total cell type:', set(raw_data['cell_type']))\n",
    "choose_celltype = 'CD8T'\n",
    "target_data = raw_data.filter(lambda x: x['cell_type'] == choose_celltype)\n",
    "control_df = target_data.filter(lambda x: x['condition'] == 'control')\n",
    "stimulated_df = target_data.filter(lambda x: x['condition'] == 'stimulated')\n",
    "print('The count of control:', len(control_df))\n",
    "print('The count of stimulated:', len(stimulated_df))\n",
    "\n",
    "filtered_input_data = concatenate_datasets([random_select(control_df), random_select(stimulated_df)])\n",
    "filtered_input_data"
   ]
  },
  {
   "cell_type": "code",
   "execution_count": 157,
   "id": "e1b21fbc-ee5e-4feb-adcc-8f6578661a46",
   "metadata": {},
   "outputs": [
    {
     "name": "stdout",
     "output_type": "stream",
     "text": [
      "The cos between control and stimulated: tensor([0.9935], device='cuda:0')\n",
      "The size of filtered_input_data: 500\n"
     ]
    }
   ],
   "source": [
    "# cell_states_to_model is Not None\n",
    "state_name = cell_states_to_model[\"state_key\"]\n",
    "state_values = filtered_input_data[state_name] # 所有state的值\n",
    "for value in get_possible_states(cell_states_to_model):\n",
    "    if value not in state_values:\n",
    "        logger.error(\n",
    "            f\"{value} is not present in the dataset's {state_name} attribute.\")\n",
    "        raise\n",
    "downsampled_data = downsample_and_sort(filtered_input_data, max_ncells)\n",
    "\n",
    "# 拿来做对比的embedding\n",
    "state_embs_dict = get_cell_state_avg_embs(model,\n",
    "                                          downsampled_data,\n",
    "                                          cell_states_to_model,\n",
    "                                          layer_to_quant,\n",
    "                                          pad_token_id,\n",
    "                                          forward_batch_size,\n",
    "                                          nproc)\n",
    "cos1 = torch.nn.CosineSimilarity(dim=1)\n",
    "print('The cos between control and stimulated:', cos1(state_embs_dict['control'], state_embs_dict['stimulated']))\n",
    "\n",
    "# filter for start state cells\n",
    "start_state = cell_states_to_model[\"start_state\"] # 从0状态开始\n",
    "def filter_for_origin(example):\n",
    "    return example[state_name] in [start_state]\n",
    "filtered_input_data = filtered_input_data.filter(filter_for_origin, num_proc=nproc) #只选择全部数据中对应start_state的数据\n",
    "\n",
    "#output_path_prefix = f\"{output_directory}in_silico_{perturb_type}_{output_prefix}_dict_1Kbatch\"\n",
    "model_input_size = get_model_input_size(model)\n",
    "cos_sims_dict = defaultdict(list)\n",
    "pickle_batch = -1\n",
    "filtered_input_data = downsample_and_sort(filtered_input_data, max_ncells)\n",
    "print('The size of filtered_input_data:', len(filtered_input_data))"
   ]
  },
  {
   "cell_type": "markdown",
   "id": "6aca024a-c695-41c2-8437-66687e7ec26b",
   "metadata": {},
   "source": [
    "## 3. In_silico_perturb"
   ]
  },
  {
   "cell_type": "code",
   "execution_count": 158,
   "id": "60f4c824-37c9-4c91-aa7f-3df9b4688cd5",
   "metadata": {},
   "outputs": [
    {
     "data": {
      "application/vnd.jupyter.widget-view+json": {
       "model_id": "90f1e674720a4a96bba58bf192b18f68",
       "version_major": 2,
       "version_minor": 0
      },
      "text/plain": [
       "Map (num_proc=16):   0%|          | 0/500 [00:00<?, ? examples/s]"
      ]
     },
     "metadata": {},
     "output_type": "display_data"
    }
   ],
   "source": [
    "#选择cell的index\n",
    "if cell_inds_to_perturb != \"all\":\n",
    "    if cell_inds_to_perturb[\"start\"] >= len(filtered_input_data):\n",
    "        logger.error(\"cell_inds_to_perturb['start'] is larger than the filtered dataset.\")\n",
    "        raise\n",
    "    if cell_inds_to_perturb[\"end\"] > len(filtered_input_data):\n",
    "        logger.warning(\"cell_inds_to_perturb['end'] is larger than the filtered dataset. \\\n",
    "                       Setting to the end of the filtered dataset.\")\n",
    "        cell_inds_to_perturb[\"end\"] = len(filtered_input_data)\n",
    "    filtered_input_data = filtered_input_data.select([i for i in range(cell_inds_to_perturb[\"start\"], cell_inds_to_perturb[\"end\"])])\n",
    "#cell_inds_to_perturb == \"all\"\n",
    "# perturb_group == True\n",
    "def make_group_perturbation_batch(example):\n",
    "    example_input_ids = example[\"input_ids\"]\n",
    "    example[\"tokens_to_perturb\"] = tokens_to_perturb\n",
    "    indices_to_perturb = [example_input_ids.index(token) if token in example_input_ids else None for token in tokens_to_perturb]\n",
    "    indices_to_perturb = [item for item in indices_to_perturb if item is not None]\n",
    "    if len(indices_to_perturb) > 0:\n",
    "        example[\"perturb_index\"] = indices_to_perturb\n",
    "    else:\n",
    "        # -100 indicates tokens to overexpress are not present in rank value encoding\n",
    "        example[\"perturb_index\"] = [-100] #如果没有出现就是-100\n",
    "    if perturb_type == \"delete\":\n",
    "        example = delete_indices(example)\n",
    "    elif perturb_type == \"overexpress\":\n",
    "        example = overexpress_tokens(example) \n",
    "    return example\n",
    "    \n",
    "perturbation_batch = filtered_input_data.map(make_group_perturbation_batch, num_proc=nproc) # 如果gene在里面，就往前调，如果没有，就直接加在前面\n",
    "indices_to_perturb = perturbation_batch[\"perturb_index\"]"
   ]
  },
  {
   "cell_type": "markdown",
   "id": "b6f407c0-efe6-46d3-8d4c-3f7353ac4939",
   "metadata": {},
   "source": [
    "## 4. quant_cos_sims"
   ]
  },
  {
   "cell_type": "code",
   "execution_count": 159,
   "id": "04b94102-408a-4fda-a129-b641f12c9e36",
   "metadata": {},
   "outputs": [
    {
     "data": {
      "application/vnd.jupyter.widget-view+json": {
       "model_id": "36923004c23044c8b830ce2eb099132a",
       "version_major": 2,
       "version_minor": 0
      },
      "text/plain": [
       "Map (num_proc=16):   0%|          | 0/500 [00:00<?, ? examples/s]"
      ]
     },
     "metadata": {},
     "output_type": "display_data"
    }
   ],
   "source": [
    "original_emb = filtered_input_data #只有这一个参数需要去特别指定 #原始的perturb矩阵\n",
    "cos = torch.nn.CosineSimilarity(dim=2)\n",
    "total_batch_length = len(perturbation_batch)\n",
    "if ((total_batch_length-1)/forward_batch_size).is_integer():\n",
    "    forward_batch_size = forward_batch_size-1\n",
    "# cell_states_to_model is Not None\n",
    "possible_states = get_possible_states(cell_states_to_model) #可能的所有状态\n",
    "cos_sims_vs_alt_dict = dict(zip(possible_states,[[] for i in range(len(possible_states))]))\n",
    "#百分比修改\n",
    "cos_sims_vs_alt_dict_percent = dict(zip(possible_states,[[] for i in range(len(possible_states))]))\n",
    "perturbation_batch = perturbation_batch.map(\n",
    "        measure_length, num_proc=nproc\n",
    "    ) #对perturb的input_ids重新计算length\n",
    "\n",
    "#开始取perturb embedding\n",
    "def compute_batch_embeddings(minibatch, _max_len = None):\n",
    "    minibatch_lengths = minibatch[\"length\"]\n",
    "    minibatch_length_set = set(minibatch_lengths)\n",
    "    max_len = model_input_size\n",
    "\n",
    "    if (len(minibatch_length_set) > 1) or (max(minibatch_length_set) > max_len):\n",
    "        needs_pad_or_trunc = True\n",
    "    else:\n",
    "        needs_pad_or_trunc = False\n",
    "        max_len = max(minibatch_length_set)\n",
    "\n",
    "\n",
    "    if needs_pad_or_trunc == True:\n",
    "        if _max_len is None:\n",
    "            max_len = min(max(minibatch_length_set), max_len)\n",
    "        else:\n",
    "            max_len = _max_len\n",
    "        def pad_or_trunc_example(example):\n",
    "            example[\"input_ids\"] = pad_or_truncate_encoding(example[\"input_ids\"], \n",
    "                                                           pad_token_id, \n",
    "                                                           max_len)\n",
    "            return example\n",
    "        minibatch = minibatch.map(pad_or_trunc_example, num_proc=nproc)\n",
    "        \n",
    "    minibatch.set_format(type=\"torch\")\n",
    "    \n",
    "    input_data_minibatch = minibatch[\"input_ids\"]\n",
    "    attention_mask = gen_attention_mask(minibatch, max_len)\n",
    "    \n",
    "    # extract embeddings for perturbation minibatch\n",
    "    with torch.no_grad():\n",
    "        outputs = model(\n",
    "            input_ids = input_data_minibatch.to(\"cuda\"),\n",
    "            attention_mask = attention_mask\n",
    "        )\n",
    "\n",
    "    return outputs, max_len"
   ]
  },
  {
   "cell_type": "code",
   "execution_count": 160,
   "id": "3abbbcad-098e-4847-a63f-df5a2abeafaf",
   "metadata": {
    "scrolled": true
   },
   "outputs": [
    {
     "data": {
      "application/vnd.jupyter.widget-view+json": {
       "model_id": "f40ea7d387a64cf39290987ed5634792",
       "version_major": 2,
       "version_minor": 0
      },
      "text/plain": [
       "Map (num_proc=16):   0%|          | 0/100 [00:00<?, ? examples/s]"
      ]
     },
     "metadata": {},
     "output_type": "display_data"
    },
    {
     "data": {
      "application/vnd.jupyter.widget-view+json": {
       "model_id": "78305fb0fbec4d6e915cd00687f6330f",
       "version_major": 2,
       "version_minor": 0
      },
      "text/plain": [
       "Map (num_proc=16):   0%|          | 0/100 [00:00<?, ? examples/s]"
      ]
     },
     "metadata": {},
     "output_type": "display_data"
    },
    {
     "name": "stdout",
     "output_type": "stream",
     "text": [
      "torch.Size([100, 882, 512])\n",
      "torch.Size([100, 882, 512])\n"
     ]
    },
    {
     "name": "stderr",
     "output_type": "stream",
     "text": [
      "/tmp/ipykernel_11830/1130200211.py:59: UserWarning: To copy construct from a tensor, it is recommended to use sourceTensor.clone().detach() or sourceTensor.clone().detach().requires_grad_(True), rather than torch.tensor(sourceTensor).\n",
      "  torch.tensor(original_minibatch_lengths, device=\"cuda\"),\n",
      "/tmp/ipykernel_11830/1130200211.py:60: UserWarning: To copy construct from a tensor, it is recommended to use sourceTensor.clone().detach() or sourceTensor.clone().detach().requires_grad_(True), rather than torch.tensor(sourceTensor).\n",
      "  torch.tensor(minibatch_lengths, device=\"cuda\"),\n",
      "/tmp/ipykernel_11830/1130200211.py:66: UserWarning: To copy construct from a tensor, it is recommended to use sourceTensor.clone().detach() or sourceTensor.clone().detach().requires_grad_(True), rather than torch.tensor(sourceTensor).\n",
      "  torch.tensor(original_minibatch_lengths, device=\"cuda\"),\n",
      "/tmp/ipykernel_11830/1130200211.py:67: UserWarning: To copy construct from a tensor, it is recommended to use sourceTensor.clone().detach() or sourceTensor.clone().detach().requires_grad_(True), rather than torch.tensor(sourceTensor).\n",
      "  torch.tensor(minibatch_lengths, device=\"cuda\"),\n"
     ]
    },
    {
     "data": {
      "application/vnd.jupyter.widget-view+json": {
       "model_id": "11e24fed30ab4c7c86c57e4d00aa7b7f",
       "version_major": 2,
       "version_minor": 0
      },
      "text/plain": [
       "Map (num_proc=16):   0%|          | 0/100 [00:00<?, ? examples/s]"
      ]
     },
     "metadata": {},
     "output_type": "display_data"
    },
    {
     "data": {
      "application/vnd.jupyter.widget-view+json": {
       "model_id": "0cd4e62dbc3e40a4a6eff5f5508db038",
       "version_major": 2,
       "version_minor": 0
      },
      "text/plain": [
       "Map (num_proc=16):   0%|          | 0/100 [00:00<?, ? examples/s]"
      ]
     },
     "metadata": {},
     "output_type": "display_data"
    },
    {
     "name": "stdout",
     "output_type": "stream",
     "text": [
      "torch.Size([100, 399, 512])\n",
      "torch.Size([100, 399, 512])\n"
     ]
    },
    {
     "data": {
      "application/vnd.jupyter.widget-view+json": {
       "model_id": "921a416298054664a790c9fb17c69a68",
       "version_major": 2,
       "version_minor": 0
      },
      "text/plain": [
       "Map (num_proc=16):   0%|          | 0/100 [00:00<?, ? examples/s]"
      ]
     },
     "metadata": {},
     "output_type": "display_data"
    },
    {
     "name": "stdout",
     "output_type": "stream",
     "text": [
      "torch.Size([100, 329, 512])\n",
      "torch.Size([100, 329, 512])\n"
     ]
    },
    {
     "data": {
      "application/vnd.jupyter.widget-view+json": {
       "model_id": "1ab40de02b3347e6b161d9c6bf3a9734",
       "version_major": 2,
       "version_minor": 0
      },
      "text/plain": [
       "Map (num_proc=16):   0%|          | 0/100 [00:00<?, ? examples/s]"
      ]
     },
     "metadata": {},
     "output_type": "display_data"
    },
    {
     "name": "stdout",
     "output_type": "stream",
     "text": [
      "torch.Size([100, 270, 512])\n",
      "torch.Size([100, 270, 512])\n"
     ]
    },
    {
     "data": {
      "application/vnd.jupyter.widget-view+json": {
       "model_id": "42816c3bfeac4a2a875be97878d9eb22",
       "version_major": 2,
       "version_minor": 0
      },
      "text/plain": [
       "Map (num_proc=16):   0%|          | 0/100 [00:00<?, ? examples/s]"
      ]
     },
     "metadata": {},
     "output_type": "display_data"
    },
    {
     "name": "stdout",
     "output_type": "stream",
     "text": [
      "torch.Size([100, 246, 512])\n",
      "torch.Size([100, 246, 512])\n"
     ]
    }
   ],
   "source": [
    "for i in range(0, total_batch_length, forward_batch_size):\n",
    "    max_range = min(i+forward_batch_size, total_batch_length)\n",
    "    perturbation_minibatch = perturbation_batch.select([i for i in range(i, max_range)]) # perturb的数据\n",
    "    outputs, mini_max_len = compute_batch_embeddings(perturbation_minibatch)\n",
    "    if len(indices_to_perturb)>1:\n",
    "        minibatch_emb = torch.squeeze(outputs.hidden_states[layer_to_quant])\n",
    "    else:\n",
    "        minibatch_emb = outputs.hidden_states[layer_to_quant]\n",
    "\n",
    "    if perturb_type == \"overexpress\":\n",
    "        # remove overexpressed genes to quantify effect on remaining genes\n",
    "        overexpressed_to_remove = len(tokens_to_perturb)\n",
    "        minibatch_emb = minibatch_emb[:, overexpressed_to_remove: ,:]\n",
    "\n",
    "    # perturb_group == True:\n",
    "    original_minibatch = original_emb.select([i for i in range(i, max_range)])\n",
    "    original_outputs, orig_max_len = compute_batch_embeddings(original_minibatch, mini_max_len)\n",
    "    if len(indices_to_perturb)>1:\n",
    "        original_minibatch_emb = torch.squeeze(original_outputs.hidden_states[layer_to_quant])\n",
    "    else:\n",
    "        original_minibatch_emb = original_outputs.hidden_states[layer_to_quant]\n",
    "    # if we overexpress genes that aren't already expressed,\n",
    "    # we need to remove genes to make sure the embeddings are of a consistent size\n",
    "    # get rid of the bottom n genes/padding since those will get truncated anyways\n",
    "    # multiple perturbations is more complicated because if 1 out of n perturbed genes is expressed\n",
    "    # the idxs will still not be [-100]\n",
    "    if len(tokens_to_perturb) == 1:\n",
    "        indices_to_perturb_minibatch = [idx if idx != [-100] else [orig_max_len - 1]\n",
    "                                        for idx in indices_to_perturb[i:max_range]]\n",
    "    else:\n",
    "        num_perturbed = len(tokens_to_perturb)\n",
    "        indices_to_perturb_minibatch = []\n",
    "        end_range = [i for i in range(orig_max_len - len(tokens_to_perturb), orig_max_len)]\n",
    "        for idx in indices_to_perturb[i:max_range]:\n",
    "            if idx == [-100]:\n",
    "                indices_to_perturb_minibatch.append(end_range)\n",
    "            elif len(idx) < len(tokens_to_perturb):\n",
    "                # 代码不对 有修改\n",
    "                indices_to_perturb_minibatch.append(idx + end_range[-num_perturbed+len(idx):])\n",
    "            else:\n",
    "                indices_to_perturb_minibatch.append(idx)\n",
    "    \n",
    "    original_minibatch_emb = remove_indices_from_emb_batch(original_minibatch_emb, \n",
    "                                                           indices_to_perturb_minibatch, \n",
    "                                                           gene_dim=1)\n",
    "    \n",
    "    original_minibatch_lengths = torch.tensor(original_minibatch[\"length\"], device=\"cuda\")\n",
    "    minibatch_lengths = torch.tensor(perturbation_minibatch[\"length\"], device=\"cuda\")\n",
    "    print(original_minibatch_emb.shape)\n",
    "    print(minibatch_emb.shape)\n",
    "    for state in possible_states:\n",
    "        '''\n",
    "        cos_sim_shift:有大量修改，不取mean，每个cell 的每个gene算cos，先整合起来\n",
    "        '''\n",
    "        cos_sims_vs_alt_dict[state] += cos_sim_shift_ipsc(original_minibatch_emb, \n",
    "                                                    minibatch_emb, \n",
    "                                                    state_embs_dict[state],\n",
    "                                                    perturb_group,\n",
    "                                                    torch.tensor(original_minibatch_lengths, device=\"cuda\"),\n",
    "                                                    torch.tensor(minibatch_lengths, device=\"cuda\"),\n",
    "                                                    perturb_method='cell')[0]\n",
    "        cos_sims_vs_alt_dict_percent[state] += cos_sim_shift_ipsc(original_minibatch_emb, \n",
    "                                                    minibatch_emb, \n",
    "                                                    state_embs_dict[state],\n",
    "                                                    perturb_group,\n",
    "                                                    torch.tensor(original_minibatch_lengths, device=\"cuda\"),\n",
    "                                                    torch.tensor(minibatch_lengths, device=\"cuda\"),\n",
    "                                                    perturb_method='cell')[1]\n",
    "        '''\n",
    "        cos_sim_shift到此处结束\n",
    "        '''\n",
    "    del outputs\n",
    "    del minibatch_emb\n",
    "    del mini_max_len\n",
    "    del original_minibatch\n",
    "    del original_outputs\n",
    "    del orig_max_len\n",
    "    del original_minibatch_emb\n",
    "    del original_minibatch_lengths\n",
    "    del perturbation_minibatch\n",
    "    del minibatch_lengths\n",
    "    torch.cuda.empty_cache()\n",
    "    \n",
    "# cell_states_to_model is not None\n",
    "for state in possible_states:\n",
    "    cos_sims_vs_alt_dict[state] = torch.cat(cos_sims_vs_alt_dict[state])\n",
    "    cos_sims_vs_alt_dict_percent[state] = torch.cat(cos_sims_vs_alt_dict_percent[state])"
   ]
  },
  {
   "cell_type": "code",
   "execution_count": 128,
   "id": "94d8370e-e4eb-412d-afc1-5f3aef666c1c",
   "metadata": {},
   "outputs": [
    {
     "data": {
      "text/plain": [
       "tensor(-0.0008)"
      ]
     },
     "execution_count": 128,
     "metadata": {},
     "output_type": "execute_result"
    }
   ],
   "source": [
    "torch.mean(cos_sims_vs_alt_dict['stimulated'])"
   ]
  },
  {
   "cell_type": "code",
   "execution_count": 141,
   "id": "ca0e729a-d114-49d3-945f-827f3dc17224",
   "metadata": {},
   "outputs": [
    {
     "data": {
      "text/plain": [
       "torch.Size([500])"
      ]
     },
     "execution_count": 141,
     "metadata": {},
     "output_type": "execute_result"
    }
   ],
   "source": [
    "\n",
    "cos_sims_vs_alt_dict['stimulated'].shape"
   ]
  },
  {
   "cell_type": "code",
   "execution_count": null,
   "id": "73039d4d-12b9-41c8-b3bf-ee9bddfe3084",
   "metadata": {},
   "outputs": [],
   "source": []
  },
  {
   "cell_type": "code",
   "execution_count": null,
   "id": "08a755e9-23a7-4dd2-9940-7bd18dbdf61b",
   "metadata": {},
   "outputs": [],
   "source": []
  },
  {
   "cell_type": "markdown",
   "id": "242e3235-2338-4f95-bb2d-b4856af5ac39",
   "metadata": {},
   "source": [
    "# 循环跑random"
   ]
  },
  {
   "cell_type": "code",
   "execution_count": 144,
   "id": "00e12c99-aaaa-428a-a9df-f6be91f03ef6",
   "metadata": {
    "scrolled": true
   },
   "outputs": [
    {
     "name": "stdout",
     "output_type": "stream",
     "text": [
      "['ENSG00000163297', 'ENSG00000167685', 'ENSG00000265507', 'ENSG00000133561', 'ENSG00000183688']\n",
      "[12625, 13783, 1328, 8486, 16755]\n"
     ]
    },
    {
     "name": "stderr",
     "output_type": "stream",
     "text": [
      "Some weights of BertForSequenceClassification were not initialized from the model checkpoint at /mnt/nfs/xz/geneformer/Geneformer34m/examples/pretraining_new_model/output_own/models/230813_170132_geneformer_30M_L12_emb512_SL2048_E3_B12_LR0.0005_LSlinear_WU10000_Oadamw_DS64/models and are newly initialized: ['bert.pooler.dense.weight', 'classifier.bias', 'classifier.weight', 'bert.pooler.dense.bias']\n",
      "You should probably TRAIN this model on a down-stream task to be able to use it for predictions and inference.\n"
     ]
    },
    {
     "name": "stdout",
     "output_type": "stream",
     "text": [
      "Total cell type: {'CD4T', 'FCGR3A+Mono', 'CD8T', 'NK', 'B', 'CD14+Mono', 'Dendritic'}\n",
      "The count of control: 574\n",
      "The count of stimulated: 541\n",
      "The cos between control and stimulated: tensor([0.9935], device='cuda:0')\n",
      "The size of filtered_input_data: 500\n",
      "torch.Size([100, 884, 512])\n",
      "torch.Size([100, 884, 512])\n"
     ]
    },
    {
     "name": "stderr",
     "output_type": "stream",
     "text": [
      "/tmp/ipykernel_11830/2398068280.py:271: UserWarning: To copy construct from a tensor, it is recommended to use sourceTensor.clone().detach() or sourceTensor.clone().detach().requires_grad_(True), rather than torch.tensor(sourceTensor).\n",
      "  torch.tensor(original_minibatch_lengths, device=\"cuda\"),\n",
      "/tmp/ipykernel_11830/2398068280.py:272: UserWarning: To copy construct from a tensor, it is recommended to use sourceTensor.clone().detach() or sourceTensor.clone().detach().requires_grad_(True), rather than torch.tensor(sourceTensor).\n",
      "  torch.tensor(minibatch_lengths, device=\"cuda\"),\n",
      "/tmp/ipykernel_11830/2398068280.py:278: UserWarning: To copy construct from a tensor, it is recommended to use sourceTensor.clone().detach() or sourceTensor.clone().detach().requires_grad_(True), rather than torch.tensor(sourceTensor).\n",
      "  torch.tensor(original_minibatch_lengths, device=\"cuda\"),\n",
      "/tmp/ipykernel_11830/2398068280.py:279: UserWarning: To copy construct from a tensor, it is recommended to use sourceTensor.clone().detach() or sourceTensor.clone().detach().requires_grad_(True), rather than torch.tensor(sourceTensor).\n",
      "  torch.tensor(minibatch_lengths, device=\"cuda\"),\n"
     ]
    },
    {
     "name": "stdout",
     "output_type": "stream",
     "text": [
      "torch.Size([100, 400, 512])\n",
      "torch.Size([100, 400, 512])\n",
      "torch.Size([100, 330, 512])\n",
      "torch.Size([100, 330, 512])\n",
      "torch.Size([100, 270, 512])\n",
      "torch.Size([100, 270, 512])\n",
      "torch.Size([100, 246, 512])\n",
      "torch.Size([100, 246, 512])\n",
      "['ENSG00000102032', 'ENSG00000198554', 'ENSG00000010270', 'ENSG00000132676', 'ENSG00000096433']\n",
      "[4404, 18653, 2069, 8360, 3865]\n"
     ]
    },
    {
     "name": "stderr",
     "output_type": "stream",
     "text": [
      "Some weights of BertForSequenceClassification were not initialized from the model checkpoint at /mnt/nfs/xz/geneformer/Geneformer34m/examples/pretraining_new_model/output_own/models/230813_170132_geneformer_30M_L12_emb512_SL2048_E3_B12_LR0.0005_LSlinear_WU10000_Oadamw_DS64/models and are newly initialized: ['bert.pooler.dense.weight', 'classifier.bias', 'classifier.weight', 'bert.pooler.dense.bias']\n",
      "You should probably TRAIN this model on a down-stream task to be able to use it for predictions and inference.\n"
     ]
    },
    {
     "name": "stdout",
     "output_type": "stream",
     "text": [
      "Total cell type: {'CD4T', 'FCGR3A+Mono', 'CD8T', 'NK', 'B', 'CD14+Mono', 'Dendritic'}\n",
      "The count of control: 574\n",
      "The count of stimulated: 541\n",
      "The cos between control and stimulated: tensor([0.9935], device='cuda:0')\n",
      "The size of filtered_input_data: 500\n",
      "torch.Size([100, 883, 512])\n",
      "torch.Size([100, 883, 512])\n",
      "torch.Size([100, 401, 512])\n",
      "torch.Size([100, 401, 512])\n",
      "torch.Size([100, 330, 512])\n",
      "torch.Size([100, 330, 512])\n",
      "torch.Size([100, 270, 512])\n",
      "torch.Size([100, 270, 512])\n",
      "torch.Size([100, 246, 512])\n",
      "torch.Size([100, 246, 512])\n",
      "['ENSG00000003400', 'ENSG00000072415', 'ENSG00000066379', 'ENSG00000157950', 'ENSG00000110315']\n",
      "[1855, 3003, 2783, 11833, 5542]\n"
     ]
    },
    {
     "name": "stderr",
     "output_type": "stream",
     "text": [
      "Some weights of BertForSequenceClassification were not initialized from the model checkpoint at /mnt/nfs/xz/geneformer/Geneformer34m/examples/pretraining_new_model/output_own/models/230813_170132_geneformer_30M_L12_emb512_SL2048_E3_B12_LR0.0005_LSlinear_WU10000_Oadamw_DS64/models and are newly initialized: ['bert.pooler.dense.weight', 'classifier.bias', 'classifier.weight', 'bert.pooler.dense.bias']\n",
      "You should probably TRAIN this model on a down-stream task to be able to use it for predictions and inference.\n"
     ]
    },
    {
     "name": "stdout",
     "output_type": "stream",
     "text": [
      "Total cell type: {'CD4T', 'FCGR3A+Mono', 'CD8T', 'NK', 'B', 'CD14+Mono', 'Dendritic'}\n",
      "The count of control: 574\n",
      "The count of stimulated: 541\n",
      "The cos between control and stimulated: tensor([0.9935], device='cuda:0')\n",
      "The size of filtered_input_data: 500\n",
      "torch.Size([100, 883, 512])\n",
      "torch.Size([100, 883, 512])\n",
      "torch.Size([100, 401, 512])\n",
      "torch.Size([100, 401, 512])\n",
      "torch.Size([100, 330, 512])\n",
      "torch.Size([100, 330, 512])\n",
      "torch.Size([100, 270, 512])\n",
      "torch.Size([100, 270, 512])\n",
      "torch.Size([100, 246, 512])\n",
      "torch.Size([100, 246, 512])\n",
      "['ENSG00000128731', 'ENSG00000212999', 'ENSG00000188816', 'ENSG00000101265', 'ENSG00000160226']\n",
      "[7799, 19421, 17835, 4275, 12124]\n"
     ]
    },
    {
     "name": "stderr",
     "output_type": "stream",
     "text": [
      "Some weights of BertForSequenceClassification were not initialized from the model checkpoint at /mnt/nfs/xz/geneformer/Geneformer34m/examples/pretraining_new_model/output_own/models/230813_170132_geneformer_30M_L12_emb512_SL2048_E3_B12_LR0.0005_LSlinear_WU10000_Oadamw_DS64/models and are newly initialized: ['bert.pooler.dense.weight', 'classifier.bias', 'classifier.weight', 'bert.pooler.dense.bias']\n",
      "You should probably TRAIN this model on a down-stream task to be able to use it for predictions and inference.\n"
     ]
    },
    {
     "name": "stdout",
     "output_type": "stream",
     "text": [
      "Total cell type: {'CD4T', 'FCGR3A+Mono', 'CD8T', 'NK', 'B', 'CD14+Mono', 'Dendritic'}\n",
      "The count of control: 574\n",
      "The count of stimulated: 541\n",
      "The cos between control and stimulated: tensor([0.9935], device='cuda:0')\n",
      "The size of filtered_input_data: 500\n"
     ]
    },
    {
     "data": {
      "application/vnd.jupyter.widget-view+json": {
       "model_id": "a1b64f1a640d4308847f6a80370ca06d",
       "version_major": 2,
       "version_minor": 0
      },
      "text/plain": [
       "Map (num_proc=16):   0%|          | 0/500 [00:00<?, ? examples/s]"
      ]
     },
     "metadata": {},
     "output_type": "display_data"
    },
    {
     "data": {
      "application/vnd.jupyter.widget-view+json": {
       "model_id": "c56daf2279224d38a5b7c7393c589fbf",
       "version_major": 2,
       "version_minor": 0
      },
      "text/plain": [
       "Map (num_proc=16):   0%|          | 0/500 [00:00<?, ? examples/s]"
      ]
     },
     "metadata": {},
     "output_type": "display_data"
    },
    {
     "data": {
      "application/vnd.jupyter.widget-view+json": {
       "model_id": "af2a7c5e02a44a45b9dcefc42bcb7f6c",
       "version_major": 2,
       "version_minor": 0
      },
      "text/plain": [
       "Map (num_proc=16):   0%|          | 0/100 [00:00<?, ? examples/s]"
      ]
     },
     "metadata": {},
     "output_type": "display_data"
    },
    {
     "name": "stdout",
     "output_type": "stream",
     "text": [
      "torch.Size([100, 884, 512])\n",
      "torch.Size([100, 884, 512])\n"
     ]
    },
    {
     "data": {
      "application/vnd.jupyter.widget-view+json": {
       "model_id": "0ded3e8588af4784aaa6a0205ca2ad0e",
       "version_major": 2,
       "version_minor": 0
      },
      "text/plain": [
       "Map (num_proc=16):   0%|          | 0/100 [00:00<?, ? examples/s]"
      ]
     },
     "metadata": {},
     "output_type": "display_data"
    },
    {
     "name": "stdout",
     "output_type": "stream",
     "text": [
      "torch.Size([100, 401, 512])\n",
      "torch.Size([100, 401, 512])\n"
     ]
    },
    {
     "data": {
      "application/vnd.jupyter.widget-view+json": {
       "model_id": "6e05a11a345645c3ab34266f66cd24e3",
       "version_major": 2,
       "version_minor": 0
      },
      "text/plain": [
       "Map (num_proc=16):   0%|          | 0/100 [00:00<?, ? examples/s]"
      ]
     },
     "metadata": {},
     "output_type": "display_data"
    },
    {
     "name": "stdout",
     "output_type": "stream",
     "text": [
      "torch.Size([100, 330, 512])\n",
      "torch.Size([100, 330, 512])\n"
     ]
    },
    {
     "data": {
      "application/vnd.jupyter.widget-view+json": {
       "model_id": "5aa991320d234d86b8c71e1bb5d6a226",
       "version_major": 2,
       "version_minor": 0
      },
      "text/plain": [
       "Map (num_proc=16):   0%|          | 0/100 [00:00<?, ? examples/s]"
      ]
     },
     "metadata": {},
     "output_type": "display_data"
    },
    {
     "name": "stdout",
     "output_type": "stream",
     "text": [
      "torch.Size([100, 270, 512])\n",
      "torch.Size([100, 270, 512])\n"
     ]
    },
    {
     "data": {
      "application/vnd.jupyter.widget-view+json": {
       "model_id": "7d41038e1d784584961c1bbd8c820f5f",
       "version_major": 2,
       "version_minor": 0
      },
      "text/plain": [
       "Map (num_proc=16):   0%|          | 0/100 [00:00<?, ? examples/s]"
      ]
     },
     "metadata": {},
     "output_type": "display_data"
    },
    {
     "name": "stdout",
     "output_type": "stream",
     "text": [
      "torch.Size([100, 246, 512])\n",
      "torch.Size([100, 246, 512])\n",
      "['ENSG00000128276', 'ENSG00000142444', 'ENSG00000082556', 'ENSGunknown_ITFG3.1', 'ENSG00000164332']\n",
      "[7736, 9940, 3382, 23634, 12980]\n"
     ]
    },
    {
     "name": "stderr",
     "output_type": "stream",
     "text": [
      "Some weights of BertForSequenceClassification were not initialized from the model checkpoint at /mnt/nfs/xz/geneformer/Geneformer34m/examples/pretraining_new_model/output_own/models/230813_170132_geneformer_30M_L12_emb512_SL2048_E3_B12_LR0.0005_LSlinear_WU10000_Oadamw_DS64/models and are newly initialized: ['bert.pooler.dense.weight', 'classifier.bias', 'classifier.weight', 'bert.pooler.dense.bias']\n",
      "You should probably TRAIN this model on a down-stream task to be able to use it for predictions and inference.\n"
     ]
    },
    {
     "name": "stdout",
     "output_type": "stream",
     "text": [
      "Total cell type: {'CD4T', 'FCGR3A+Mono', 'CD8T', 'NK', 'B', 'CD14+Mono', 'Dendritic'}\n",
      "The count of control: 574\n",
      "The count of stimulated: 541\n",
      "The cos between control and stimulated: tensor([0.9935], device='cuda:0')\n",
      "The size of filtered_input_data: 500\n"
     ]
    },
    {
     "data": {
      "application/vnd.jupyter.widget-view+json": {
       "model_id": "f75b5b506db14c0c823b94f30647200a",
       "version_major": 2,
       "version_minor": 0
      },
      "text/plain": [
       "Map (num_proc=16):   0%|          | 0/500 [00:00<?, ? examples/s]"
      ]
     },
     "metadata": {},
     "output_type": "display_data"
    },
    {
     "data": {
      "application/vnd.jupyter.widget-view+json": {
       "model_id": "ab77bd2fbf9a450587d116892704fedb",
       "version_major": 2,
       "version_minor": 0
      },
      "text/plain": [
       "Map (num_proc=16):   0%|          | 0/500 [00:00<?, ? examples/s]"
      ]
     },
     "metadata": {},
     "output_type": "display_data"
    },
    {
     "data": {
      "application/vnd.jupyter.widget-view+json": {
       "model_id": "abbf1b124c7c4e13bb679f7330cc1453",
       "version_major": 2,
       "version_minor": 0
      },
      "text/plain": [
       "Map (num_proc=16):   0%|          | 0/100 [00:00<?, ? examples/s]"
      ]
     },
     "metadata": {},
     "output_type": "display_data"
    },
    {
     "name": "stdout",
     "output_type": "stream",
     "text": [
      "torch.Size([100, 883, 512])\n",
      "torch.Size([100, 883, 512])\n"
     ]
    },
    {
     "data": {
      "application/vnd.jupyter.widget-view+json": {
       "model_id": "2bdd7b811cad4d9eb45b9b51ea88f1c4",
       "version_major": 2,
       "version_minor": 0
      },
      "text/plain": [
       "Map (num_proc=16):   0%|          | 0/100 [00:00<?, ? examples/s]"
      ]
     },
     "metadata": {},
     "output_type": "display_data"
    },
    {
     "name": "stdout",
     "output_type": "stream",
     "text": [
      "torch.Size([100, 400, 512])\n",
      "torch.Size([100, 400, 512])\n"
     ]
    },
    {
     "data": {
      "application/vnd.jupyter.widget-view+json": {
       "model_id": "32cb1a7d05434e0e96062b8da2e02bcf",
       "version_major": 2,
       "version_minor": 0
      },
      "text/plain": [
       "Map (num_proc=16):   0%|          | 0/100 [00:00<?, ? examples/s]"
      ]
     },
     "metadata": {},
     "output_type": "display_data"
    },
    {
     "data": {
      "application/vnd.jupyter.widget-view+json": {
       "model_id": "eb51225e74fd42f98d841d86e8db0547",
       "version_major": 2,
       "version_minor": 0
      },
      "text/plain": [
       "Map (num_proc=16):   0%|          | 0/100 [00:00<?, ? examples/s]"
      ]
     },
     "metadata": {},
     "output_type": "display_data"
    },
    {
     "name": "stdout",
     "output_type": "stream",
     "text": [
      "torch.Size([100, 329, 512])\n",
      "torch.Size([100, 329, 512])\n"
     ]
    },
    {
     "data": {
      "application/vnd.jupyter.widget-view+json": {
       "model_id": "6f110f4f1b8b41e9a0a94c4b00dc472f",
       "version_major": 2,
       "version_minor": 0
      },
      "text/plain": [
       "Map (num_proc=16):   0%|          | 0/100 [00:00<?, ? examples/s]"
      ]
     },
     "metadata": {},
     "output_type": "display_data"
    },
    {
     "name": "stdout",
     "output_type": "stream",
     "text": [
      "torch.Size([100, 270, 512])\n",
      "torch.Size([100, 270, 512])\n"
     ]
    },
    {
     "data": {
      "application/vnd.jupyter.widget-view+json": {
       "model_id": "1e2eaba545af4ad2bcde9f359e8d8d49",
       "version_major": 2,
       "version_minor": 0
      },
      "text/plain": [
       "Map (num_proc=16):   0%|          | 0/100 [00:00<?, ? examples/s]"
      ]
     },
     "metadata": {},
     "output_type": "display_data"
    },
    {
     "name": "stdout",
     "output_type": "stream",
     "text": [
      "torch.Size([100, 246, 512])\n",
      "torch.Size([100, 246, 512])\n",
      "['ENSG00000242252', 'ENSG00000132716', 'ENSG00000157212', 'ENSG00000282419', 'ENSG00000263639']\n",
      "[20413, 8372, 11750, 22626, 21367]\n"
     ]
    },
    {
     "name": "stderr",
     "output_type": "stream",
     "text": [
      "Some weights of BertForSequenceClassification were not initialized from the model checkpoint at /mnt/nfs/xz/geneformer/Geneformer34m/examples/pretraining_new_model/output_own/models/230813_170132_geneformer_30M_L12_emb512_SL2048_E3_B12_LR0.0005_LSlinear_WU10000_Oadamw_DS64/models and are newly initialized: ['bert.pooler.dense.weight', 'classifier.bias', 'classifier.weight', 'bert.pooler.dense.bias']\n",
      "You should probably TRAIN this model on a down-stream task to be able to use it for predictions and inference.\n"
     ]
    },
    {
     "name": "stdout",
     "output_type": "stream",
     "text": [
      "Total cell type: {'CD4T', 'FCGR3A+Mono', 'CD8T', 'NK', 'B', 'CD14+Mono', 'Dendritic'}\n",
      "The count of control: 574\n",
      "The count of stimulated: 541\n",
      "The cos between control and stimulated: tensor([0.9935], device='cuda:0')\n",
      "The size of filtered_input_data: 500\n"
     ]
    },
    {
     "data": {
      "application/vnd.jupyter.widget-view+json": {
       "model_id": "b34cba6fe8a54357aef54ece8d592e89",
       "version_major": 2,
       "version_minor": 0
      },
      "text/plain": [
       "Map (num_proc=16):   0%|          | 0/500 [00:00<?, ? examples/s]"
      ]
     },
     "metadata": {},
     "output_type": "display_data"
    },
    {
     "data": {
      "application/vnd.jupyter.widget-view+json": {
       "model_id": "da33606c7460456d9b364a0dd17f4573",
       "version_major": 2,
       "version_minor": 0
      },
      "text/plain": [
       "Map (num_proc=16):   0%|          | 0/500 [00:00<?, ? examples/s]"
      ]
     },
     "metadata": {},
     "output_type": "display_data"
    },
    {
     "data": {
      "application/vnd.jupyter.widget-view+json": {
       "model_id": "aa204fb05f6043cbbeb6f25b3b384e2b",
       "version_major": 2,
       "version_minor": 0
      },
      "text/plain": [
       "Map (num_proc=16):   0%|          | 0/100 [00:00<?, ? examples/s]"
      ]
     },
     "metadata": {},
     "output_type": "display_data"
    },
    {
     "name": "stdout",
     "output_type": "stream",
     "text": [
      "torch.Size([100, 884, 512])\n",
      "torch.Size([100, 884, 512])\n"
     ]
    },
    {
     "data": {
      "application/vnd.jupyter.widget-view+json": {
       "model_id": "ea6a82c2e23445978e390f5b307e8fd5",
       "version_major": 2,
       "version_minor": 0
      },
      "text/plain": [
       "Map (num_proc=16):   0%|          | 0/100 [00:00<?, ? examples/s]"
      ]
     },
     "metadata": {},
     "output_type": "display_data"
    },
    {
     "name": "stdout",
     "output_type": "stream",
     "text": [
      "torch.Size([100, 401, 512])\n",
      "torch.Size([100, 401, 512])\n"
     ]
    },
    {
     "data": {
      "application/vnd.jupyter.widget-view+json": {
       "model_id": "e3b183e5afed447ebccd218b91cbe2a2",
       "version_major": 2,
       "version_minor": 0
      },
      "text/plain": [
       "Map (num_proc=16):   0%|          | 0/100 [00:00<?, ? examples/s]"
      ]
     },
     "metadata": {},
     "output_type": "display_data"
    },
    {
     "name": "stdout",
     "output_type": "stream",
     "text": [
      "torch.Size([100, 330, 512])\n",
      "torch.Size([100, 330, 512])\n"
     ]
    },
    {
     "data": {
      "application/vnd.jupyter.widget-view+json": {
       "model_id": "11cf63d4ebaf42a78449aac0f8b80016",
       "version_major": 2,
       "version_minor": 0
      },
      "text/plain": [
       "Map (num_proc=16):   0%|          | 0/100 [00:00<?, ? examples/s]"
      ]
     },
     "metadata": {},
     "output_type": "display_data"
    },
    {
     "name": "stdout",
     "output_type": "stream",
     "text": [
      "torch.Size([100, 270, 512])\n",
      "torch.Size([100, 270, 512])\n"
     ]
    },
    {
     "data": {
      "application/vnd.jupyter.widget-view+json": {
       "model_id": "c4442b78fab2497b8f03bb0a5e819d2e",
       "version_major": 2,
       "version_minor": 0
      },
      "text/plain": [
       "Map (num_proc=16):   0%|          | 0/100 [00:00<?, ? examples/s]"
      ]
     },
     "metadata": {},
     "output_type": "display_data"
    },
    {
     "name": "stdout",
     "output_type": "stream",
     "text": [
      "torch.Size([100, 246, 512])\n",
      "torch.Size([100, 246, 512])\n",
      "['ENSG00000198910', 'ENSG00000061492', 'ENSG00000178403', 'ENSG00000134215', 'ENSG00000264974']\n",
      "[18804, 2642, 15895, 8574, 1208]\n"
     ]
    },
    {
     "name": "stderr",
     "output_type": "stream",
     "text": [
      "Some weights of BertForSequenceClassification were not initialized from the model checkpoint at /mnt/nfs/xz/geneformer/Geneformer34m/examples/pretraining_new_model/output_own/models/230813_170132_geneformer_30M_L12_emb512_SL2048_E3_B12_LR0.0005_LSlinear_WU10000_Oadamw_DS64/models and are newly initialized: ['bert.pooler.dense.weight', 'classifier.bias', 'classifier.weight', 'bert.pooler.dense.bias']\n",
      "You should probably TRAIN this model on a down-stream task to be able to use it for predictions and inference.\n"
     ]
    },
    {
     "name": "stdout",
     "output_type": "stream",
     "text": [
      "Total cell type: {'CD4T', 'FCGR3A+Mono', 'CD8T', 'NK', 'B', 'CD14+Mono', 'Dendritic'}\n",
      "The count of control: 574\n",
      "The count of stimulated: 541\n",
      "The cos between control and stimulated: tensor([0.9935], device='cuda:0')\n",
      "The size of filtered_input_data: 500\n"
     ]
    },
    {
     "data": {
      "application/vnd.jupyter.widget-view+json": {
       "model_id": "1169b115386346f3808615f5139d5ee8",
       "version_major": 2,
       "version_minor": 0
      },
      "text/plain": [
       "Map (num_proc=16):   0%|          | 0/500 [00:00<?, ? examples/s]"
      ]
     },
     "metadata": {},
     "output_type": "display_data"
    },
    {
     "data": {
      "application/vnd.jupyter.widget-view+json": {
       "model_id": "d9ba757c0ad647f5b67f044de5e77709",
       "version_major": 2,
       "version_minor": 0
      },
      "text/plain": [
       "Map (num_proc=16):   0%|          | 0/500 [00:00<?, ? examples/s]"
      ]
     },
     "metadata": {},
     "output_type": "display_data"
    },
    {
     "data": {
      "application/vnd.jupyter.widget-view+json": {
       "model_id": "42248d271d15477aa6c16ea698846eea",
       "version_major": 2,
       "version_minor": 0
      },
      "text/plain": [
       "Map (num_proc=16):   0%|          | 0/100 [00:00<?, ? examples/s]"
      ]
     },
     "metadata": {},
     "output_type": "display_data"
    },
    {
     "name": "stdout",
     "output_type": "stream",
     "text": [
      "torch.Size([100, 883, 512])\n",
      "torch.Size([100, 883, 512])\n"
     ]
    },
    {
     "data": {
      "application/vnd.jupyter.widget-view+json": {
       "model_id": "0e54d0c222984bf4bd0939f8c3879124",
       "version_major": 2,
       "version_minor": 0
      },
      "text/plain": [
       "Map (num_proc=16):   0%|          | 0/100 [00:00<?, ? examples/s]"
      ]
     },
     "metadata": {},
     "output_type": "display_data"
    },
    {
     "name": "stdout",
     "output_type": "stream",
     "text": [
      "torch.Size([100, 401, 512])\n",
      "torch.Size([100, 401, 512])\n"
     ]
    },
    {
     "data": {
      "application/vnd.jupyter.widget-view+json": {
       "model_id": "a412976bdc8048b8b43f08bf10908ef5",
       "version_major": 2,
       "version_minor": 0
      },
      "text/plain": [
       "Map (num_proc=16):   0%|          | 0/100 [00:00<?, ? examples/s]"
      ]
     },
     "metadata": {},
     "output_type": "display_data"
    },
    {
     "name": "stdout",
     "output_type": "stream",
     "text": [
      "torch.Size([100, 330, 512])\n",
      "torch.Size([100, 330, 512])\n"
     ]
    },
    {
     "data": {
      "application/vnd.jupyter.widget-view+json": {
       "model_id": "2e878fba6d024dee8b5739a28f90227b",
       "version_major": 2,
       "version_minor": 0
      },
      "text/plain": [
       "Map (num_proc=16):   0%|          | 0/100 [00:00<?, ? examples/s]"
      ]
     },
     "metadata": {},
     "output_type": "display_data"
    },
    {
     "name": "stdout",
     "output_type": "stream",
     "text": [
      "torch.Size([100, 270, 512])\n",
      "torch.Size([100, 270, 512])\n"
     ]
    },
    {
     "data": {
      "application/vnd.jupyter.widget-view+json": {
       "model_id": "3af9734aaeef43e4bf09a6bdf1e7cbc8",
       "version_major": 2,
       "version_minor": 0
      },
      "text/plain": [
       "Map (num_proc=16):   0%|          | 0/100 [00:00<?, ? examples/s]"
      ]
     },
     "metadata": {},
     "output_type": "display_data"
    },
    {
     "name": "stdout",
     "output_type": "stream",
     "text": [
      "torch.Size([100, 246, 512])\n",
      "torch.Size([100, 246, 512])\n",
      "['ENSG00000147121', 'ENSG00000105677', 'ENSG00000164209', 'ENSG00000263192', 'ENSG00000266643']\n",
      "[10613, 4945, 12939, 21331, 1584]\n"
     ]
    },
    {
     "name": "stderr",
     "output_type": "stream",
     "text": [
      "Some weights of BertForSequenceClassification were not initialized from the model checkpoint at /mnt/nfs/xz/geneformer/Geneformer34m/examples/pretraining_new_model/output_own/models/230813_170132_geneformer_30M_L12_emb512_SL2048_E3_B12_LR0.0005_LSlinear_WU10000_Oadamw_DS64/models and are newly initialized: ['bert.pooler.dense.weight', 'classifier.bias', 'classifier.weight', 'bert.pooler.dense.bias']\n",
      "You should probably TRAIN this model on a down-stream task to be able to use it for predictions and inference.\n"
     ]
    },
    {
     "name": "stdout",
     "output_type": "stream",
     "text": [
      "Total cell type: {'CD4T', 'FCGR3A+Mono', 'CD8T', 'NK', 'B', 'CD14+Mono', 'Dendritic'}\n",
      "The count of control: 574\n",
      "The count of stimulated: 541\n",
      "The cos between control and stimulated: tensor([0.9935], device='cuda:0')\n",
      "The size of filtered_input_data: 500\n"
     ]
    },
    {
     "data": {
      "application/vnd.jupyter.widget-view+json": {
       "model_id": "2a91610827744ce3a019895bfab3ef7a",
       "version_major": 2,
       "version_minor": 0
      },
      "text/plain": [
       "Map (num_proc=16):   0%|          | 0/500 [00:00<?, ? examples/s]"
      ]
     },
     "metadata": {},
     "output_type": "display_data"
    },
    {
     "data": {
      "application/vnd.jupyter.widget-view+json": {
       "model_id": "e7f1d74c641d4c6399c3402781c2ed73",
       "version_major": 2,
       "version_minor": 0
      },
      "text/plain": [
       "Map (num_proc=16):   0%|          | 0/500 [00:00<?, ? examples/s]"
      ]
     },
     "metadata": {},
     "output_type": "display_data"
    },
    {
     "data": {
      "application/vnd.jupyter.widget-view+json": {
       "model_id": "b6d0db8b221d408286349480a1890520",
       "version_major": 2,
       "version_minor": 0
      },
      "text/plain": [
       "Map (num_proc=16):   0%|          | 0/100 [00:00<?, ? examples/s]"
      ]
     },
     "metadata": {},
     "output_type": "display_data"
    },
    {
     "name": "stdout",
     "output_type": "stream",
     "text": [
      "torch.Size([100, 884, 512])\n",
      "torch.Size([100, 884, 512])\n"
     ]
    },
    {
     "data": {
      "application/vnd.jupyter.widget-view+json": {
       "model_id": "96211147044e48978d34ee3b5cf50361",
       "version_major": 2,
       "version_minor": 0
      },
      "text/plain": [
       "Map (num_proc=16):   0%|          | 0/100 [00:00<?, ? examples/s]"
      ]
     },
     "metadata": {},
     "output_type": "display_data"
    },
    {
     "name": "stdout",
     "output_type": "stream",
     "text": [
      "torch.Size([100, 401, 512])\n",
      "torch.Size([100, 401, 512])\n"
     ]
    },
    {
     "data": {
      "application/vnd.jupyter.widget-view+json": {
       "model_id": "50e75f1374a44a3998fe9c0d0bd0bb47",
       "version_major": 2,
       "version_minor": 0
      },
      "text/plain": [
       "Map (num_proc=16):   0%|          | 0/100 [00:00<?, ? examples/s]"
      ]
     },
     "metadata": {},
     "output_type": "display_data"
    },
    {
     "name": "stdout",
     "output_type": "stream",
     "text": [
      "torch.Size([100, 330, 512])\n",
      "torch.Size([100, 330, 512])\n"
     ]
    },
    {
     "data": {
      "application/vnd.jupyter.widget-view+json": {
       "model_id": "b827714c153444358efa24262b7ae327",
       "version_major": 2,
       "version_minor": 0
      },
      "text/plain": [
       "Map (num_proc=16):   0%|          | 0/100 [00:00<?, ? examples/s]"
      ]
     },
     "metadata": {},
     "output_type": "display_data"
    },
    {
     "name": "stdout",
     "output_type": "stream",
     "text": [
      "torch.Size([100, 270, 512])\n",
      "torch.Size([100, 270, 512])\n"
     ]
    },
    {
     "data": {
      "application/vnd.jupyter.widget-view+json": {
       "model_id": "6a72a9c4367741d89c03aec8e692ed07",
       "version_major": 2,
       "version_minor": 0
      },
      "text/plain": [
       "Map (num_proc=16):   0%|          | 0/100 [00:00<?, ? examples/s]"
      ]
     },
     "metadata": {},
     "output_type": "display_data"
    },
    {
     "name": "stdout",
     "output_type": "stream",
     "text": [
      "torch.Size([100, 246, 512])\n",
      "torch.Size([100, 246, 512])\n",
      "['ENSG00000125686', 'ENSG00000160310', 'ENSG00000161807', 'ENSG00000100593', 'ENSG00000116273']\n",
      "[7430, 12139, 12302, 4141, 6330]\n"
     ]
    },
    {
     "name": "stderr",
     "output_type": "stream",
     "text": [
      "Some weights of BertForSequenceClassification were not initialized from the model checkpoint at /mnt/nfs/xz/geneformer/Geneformer34m/examples/pretraining_new_model/output_own/models/230813_170132_geneformer_30M_L12_emb512_SL2048_E3_B12_LR0.0005_LSlinear_WU10000_Oadamw_DS64/models and are newly initialized: ['bert.pooler.dense.weight', 'classifier.bias', 'classifier.weight', 'bert.pooler.dense.bias']\n",
      "You should probably TRAIN this model on a down-stream task to be able to use it for predictions and inference.\n"
     ]
    },
    {
     "name": "stdout",
     "output_type": "stream",
     "text": [
      "Total cell type: {'CD4T', 'FCGR3A+Mono', 'CD8T', 'NK', 'B', 'CD14+Mono', 'Dendritic'}\n",
      "The count of control: 574\n",
      "The count of stimulated: 541\n",
      "The cos between control and stimulated: tensor([0.9935], device='cuda:0')\n",
      "The size of filtered_input_data: 500\n"
     ]
    },
    {
     "data": {
      "application/vnd.jupyter.widget-view+json": {
       "model_id": "5447bb390177489f91e2500e8d4e9350",
       "version_major": 2,
       "version_minor": 0
      },
      "text/plain": [
       "Map (num_proc=16):   0%|          | 0/500 [00:00<?, ? examples/s]"
      ]
     },
     "metadata": {},
     "output_type": "display_data"
    },
    {
     "data": {
      "application/vnd.jupyter.widget-view+json": {
       "model_id": "1301d12c1ee44b5abe1e71d753e2464e",
       "version_major": 2,
       "version_minor": 0
      },
      "text/plain": [
       "Map (num_proc=16):   0%|          | 0/500 [00:00<?, ? examples/s]"
      ]
     },
     "metadata": {},
     "output_type": "display_data"
    },
    {
     "data": {
      "application/vnd.jupyter.widget-view+json": {
       "model_id": "e20f2babc0a841c7ad711c7553c9726a",
       "version_major": 2,
       "version_minor": 0
      },
      "text/plain": [
       "Map (num_proc=16):   0%|          | 0/100 [00:00<?, ? examples/s]"
      ]
     },
     "metadata": {},
     "output_type": "display_data"
    },
    {
     "name": "stdout",
     "output_type": "stream",
     "text": [
      "torch.Size([100, 884, 512])\n",
      "torch.Size([100, 884, 512])\n"
     ]
    },
    {
     "data": {
      "application/vnd.jupyter.widget-view+json": {
       "model_id": "e90a5586111740e5aa092ca16a171651",
       "version_major": 2,
       "version_minor": 0
      },
      "text/plain": [
       "Map (num_proc=16):   0%|          | 0/100 [00:00<?, ? examples/s]"
      ]
     },
     "metadata": {},
     "output_type": "display_data"
    },
    {
     "name": "stdout",
     "output_type": "stream",
     "text": [
      "torch.Size([100, 401, 512])\n",
      "torch.Size([100, 401, 512])\n"
     ]
    },
    {
     "data": {
      "application/vnd.jupyter.widget-view+json": {
       "model_id": "addec51037354b1fac6ea34780b2e484",
       "version_major": 2,
       "version_minor": 0
      },
      "text/plain": [
       "Map (num_proc=16):   0%|          | 0/100 [00:00<?, ? examples/s]"
      ]
     },
     "metadata": {},
     "output_type": "display_data"
    },
    {
     "name": "stdout",
     "output_type": "stream",
     "text": [
      "torch.Size([100, 330, 512])\n",
      "torch.Size([100, 330, 512])\n"
     ]
    },
    {
     "data": {
      "application/vnd.jupyter.widget-view+json": {
       "model_id": "44301ad429de4caaa508eb63e67877e2",
       "version_major": 2,
       "version_minor": 0
      },
      "text/plain": [
       "Map (num_proc=16):   0%|          | 0/100 [00:00<?, ? examples/s]"
      ]
     },
     "metadata": {},
     "output_type": "display_data"
    },
    {
     "name": "stdout",
     "output_type": "stream",
     "text": [
      "torch.Size([100, 270, 512])\n",
      "torch.Size([100, 270, 512])\n"
     ]
    },
    {
     "data": {
      "application/vnd.jupyter.widget-view+json": {
       "model_id": "0fbe1a915e82452782b673e6e8c9c7e5",
       "version_major": 2,
       "version_minor": 0
      },
      "text/plain": [
       "Map (num_proc=16):   0%|          | 0/100 [00:00<?, ? examples/s]"
      ]
     },
     "metadata": {},
     "output_type": "display_data"
    },
    {
     "name": "stdout",
     "output_type": "stream",
     "text": [
      "torch.Size([100, 246, 512])\n",
      "torch.Size([100, 246, 512])\n",
      "['ENSG00000174007', 'ENSG00000234114', 'ENSG00000161010', 'ENSG00000135248', 'ENSG00000103047']\n",
      "[15173, 20095, 12234, 8755, 4541]\n"
     ]
    },
    {
     "name": "stderr",
     "output_type": "stream",
     "text": [
      "Some weights of BertForSequenceClassification were not initialized from the model checkpoint at /mnt/nfs/xz/geneformer/Geneformer34m/examples/pretraining_new_model/output_own/models/230813_170132_geneformer_30M_L12_emb512_SL2048_E3_B12_LR0.0005_LSlinear_WU10000_Oadamw_DS64/models and are newly initialized: ['bert.pooler.dense.weight', 'classifier.bias', 'classifier.weight', 'bert.pooler.dense.bias']\n",
      "You should probably TRAIN this model on a down-stream task to be able to use it for predictions and inference.\n"
     ]
    },
    {
     "name": "stdout",
     "output_type": "stream",
     "text": [
      "Total cell type: {'CD4T', 'FCGR3A+Mono', 'CD8T', 'NK', 'B', 'CD14+Mono', 'Dendritic'}\n",
      "The count of control: 574\n",
      "The count of stimulated: 541\n",
      "The cos between control and stimulated: tensor([0.9935], device='cuda:0')\n",
      "The size of filtered_input_data: 500\n"
     ]
    },
    {
     "data": {
      "application/vnd.jupyter.widget-view+json": {
       "model_id": "80fb9d535dbc47bd8ea10f12a817b347",
       "version_major": 2,
       "version_minor": 0
      },
      "text/plain": [
       "Map (num_proc=16):   0%|          | 0/500 [00:00<?, ? examples/s]"
      ]
     },
     "metadata": {},
     "output_type": "display_data"
    },
    {
     "data": {
      "application/vnd.jupyter.widget-view+json": {
       "model_id": "04f6426a969648898732f7d725655d48",
       "version_major": 2,
       "version_minor": 0
      },
      "text/plain": [
       "Map (num_proc=16):   0%|          | 0/500 [00:00<?, ? examples/s]"
      ]
     },
     "metadata": {},
     "output_type": "display_data"
    },
    {
     "data": {
      "application/vnd.jupyter.widget-view+json": {
       "model_id": "147a9a45ed1f4cc4a2be55298e6af52d",
       "version_major": 2,
       "version_minor": 0
      },
      "text/plain": [
       "Map (num_proc=16):   0%|          | 0/100 [00:00<?, ? examples/s]"
      ]
     },
     "metadata": {},
     "output_type": "display_data"
    },
    {
     "name": "stdout",
     "output_type": "stream",
     "text": [
      "torch.Size([100, 884, 512])\n",
      "torch.Size([100, 884, 512])\n"
     ]
    },
    {
     "data": {
      "application/vnd.jupyter.widget-view+json": {
       "model_id": "8212cb34718946e1b0a6a6c4d6d76684",
       "version_major": 2,
       "version_minor": 0
      },
      "text/plain": [
       "Map (num_proc=16):   0%|          | 0/100 [00:00<?, ? examples/s]"
      ]
     },
     "metadata": {},
     "output_type": "display_data"
    },
    {
     "name": "stdout",
     "output_type": "stream",
     "text": [
      "torch.Size([100, 401, 512])\n",
      "torch.Size([100, 401, 512])\n"
     ]
    },
    {
     "data": {
      "application/vnd.jupyter.widget-view+json": {
       "model_id": "307ac3d89e264a63bfd3923ab9a1f4b0",
       "version_major": 2,
       "version_minor": 0
      },
      "text/plain": [
       "Map (num_proc=16):   0%|          | 0/100 [00:00<?, ? examples/s]"
      ]
     },
     "metadata": {},
     "output_type": "display_data"
    },
    {
     "name": "stdout",
     "output_type": "stream",
     "text": [
      "torch.Size([100, 330, 512])\n",
      "torch.Size([100, 330, 512])\n"
     ]
    },
    {
     "data": {
      "application/vnd.jupyter.widget-view+json": {
       "model_id": "d7dbb76202374aa697517085f762e726",
       "version_major": 2,
       "version_minor": 0
      },
      "text/plain": [
       "Map (num_proc=16):   0%|          | 0/100 [00:00<?, ? examples/s]"
      ]
     },
     "metadata": {},
     "output_type": "display_data"
    },
    {
     "name": "stdout",
     "output_type": "stream",
     "text": [
      "torch.Size([100, 270, 512])\n",
      "torch.Size([100, 270, 512])\n"
     ]
    },
    {
     "data": {
      "application/vnd.jupyter.widget-view+json": {
       "model_id": "8c04689cbb824424b1b9269ad70b3220",
       "version_major": 2,
       "version_minor": 0
      },
      "text/plain": [
       "Map (num_proc=16):   0%|          | 0/100 [00:00<?, ? examples/s]"
      ]
     },
     "metadata": {},
     "output_type": "display_data"
    },
    {
     "name": "stdout",
     "output_type": "stream",
     "text": [
      "torch.Size([100, 246, 512])\n",
      "torch.Size([100, 246, 512])\n",
      "['ENSG00000198763', 'ENSG00000264342', 'ENSG00000168818', 'ENSG00000177888', 'ENSG00000204120']\n",
      "[18725, 1069, 14055, 15814, 18944]\n"
     ]
    },
    {
     "name": "stderr",
     "output_type": "stream",
     "text": [
      "Some weights of BertForSequenceClassification were not initialized from the model checkpoint at /mnt/nfs/xz/geneformer/Geneformer34m/examples/pretraining_new_model/output_own/models/230813_170132_geneformer_30M_L12_emb512_SL2048_E3_B12_LR0.0005_LSlinear_WU10000_Oadamw_DS64/models and are newly initialized: ['bert.pooler.dense.weight', 'classifier.bias', 'classifier.weight', 'bert.pooler.dense.bias']\n",
      "You should probably TRAIN this model on a down-stream task to be able to use it for predictions and inference.\n"
     ]
    },
    {
     "name": "stdout",
     "output_type": "stream",
     "text": [
      "Total cell type: {'CD4T', 'FCGR3A+Mono', 'CD8T', 'NK', 'B', 'CD14+Mono', 'Dendritic'}\n",
      "The count of control: 574\n",
      "The count of stimulated: 541\n",
      "The cos between control and stimulated: tensor([0.9935], device='cuda:0')\n",
      "The size of filtered_input_data: 500\n"
     ]
    },
    {
     "data": {
      "application/vnd.jupyter.widget-view+json": {
       "model_id": "1b4b242d0b4b4415b28b7e0c0eaea784",
       "version_major": 2,
       "version_minor": 0
      },
      "text/plain": [
       "Map (num_proc=16):   0%|          | 0/500 [00:00<?, ? examples/s]"
      ]
     },
     "metadata": {},
     "output_type": "display_data"
    },
    {
     "data": {
      "application/vnd.jupyter.widget-view+json": {
       "model_id": "1bc9446ec43b49798723a54a12708beb",
       "version_major": 2,
       "version_minor": 0
      },
      "text/plain": [
       "Map (num_proc=16):   0%|          | 0/500 [00:00<?, ? examples/s]"
      ]
     },
     "metadata": {},
     "output_type": "display_data"
    },
    {
     "data": {
      "application/vnd.jupyter.widget-view+json": {
       "model_id": "45767efd67a04640b9348b397479e99c",
       "version_major": 2,
       "version_minor": 0
      },
      "text/plain": [
       "Map (num_proc=16):   0%|          | 0/100 [00:00<?, ? examples/s]"
      ]
     },
     "metadata": {},
     "output_type": "display_data"
    },
    {
     "name": "stdout",
     "output_type": "stream",
     "text": [
      "torch.Size([100, 884, 512])\n",
      "torch.Size([100, 884, 512])\n"
     ]
    },
    {
     "data": {
      "application/vnd.jupyter.widget-view+json": {
       "model_id": "68eca934919d4c53ae3bb3ec57339ecc",
       "version_major": 2,
       "version_minor": 0
      },
      "text/plain": [
       "Map (num_proc=16):   0%|          | 0/100 [00:00<?, ? examples/s]"
      ]
     },
     "metadata": {},
     "output_type": "display_data"
    },
    {
     "name": "stdout",
     "output_type": "stream",
     "text": [
      "torch.Size([100, 401, 512])\n",
      "torch.Size([100, 401, 512])\n"
     ]
    },
    {
     "data": {
      "application/vnd.jupyter.widget-view+json": {
       "model_id": "0c4dd157fd364cac9e456e348e7d9646",
       "version_major": 2,
       "version_minor": 0
      },
      "text/plain": [
       "Map (num_proc=16):   0%|          | 0/100 [00:00<?, ? examples/s]"
      ]
     },
     "metadata": {},
     "output_type": "display_data"
    },
    {
     "name": "stdout",
     "output_type": "stream",
     "text": [
      "torch.Size([100, 330, 512])\n",
      "torch.Size([100, 330, 512])\n"
     ]
    },
    {
     "data": {
      "application/vnd.jupyter.widget-view+json": {
       "model_id": "2fcc378c74c9489b850d4d49f0d3b756",
       "version_major": 2,
       "version_minor": 0
      },
      "text/plain": [
       "Map (num_proc=16):   0%|          | 0/100 [00:00<?, ? examples/s]"
      ]
     },
     "metadata": {},
     "output_type": "display_data"
    },
    {
     "name": "stdout",
     "output_type": "stream",
     "text": [
      "torch.Size([100, 270, 512])\n",
      "torch.Size([100, 270, 512])\n"
     ]
    },
    {
     "data": {
      "application/vnd.jupyter.widget-view+json": {
       "model_id": "c1d387f5a32a435094d9cb82cde97330",
       "version_major": 2,
       "version_minor": 0
      },
      "text/plain": [
       "Map (num_proc=16):   0%|          | 0/100 [00:00<?, ? examples/s]"
      ]
     },
     "metadata": {},
     "output_type": "display_data"
    },
    {
     "name": "stdout",
     "output_type": "stream",
     "text": [
      "torch.Size([100, 246, 512])\n",
      "torch.Size([100, 246, 512])\n",
      "['ENSG00000172232', 'ENSG00000197437', 'ENSG00000174547', 'ENSG00000172155', 'ENSG00000183128']\n",
      "[14825, 18344, 15260, 14807, 16642]\n"
     ]
    },
    {
     "name": "stderr",
     "output_type": "stream",
     "text": [
      "Some weights of BertForSequenceClassification were not initialized from the model checkpoint at /mnt/nfs/xz/geneformer/Geneformer34m/examples/pretraining_new_model/output_own/models/230813_170132_geneformer_30M_L12_emb512_SL2048_E3_B12_LR0.0005_LSlinear_WU10000_Oadamw_DS64/models and are newly initialized: ['bert.pooler.dense.weight', 'classifier.bias', 'classifier.weight', 'bert.pooler.dense.bias']\n",
      "You should probably TRAIN this model on a down-stream task to be able to use it for predictions and inference.\n"
     ]
    },
    {
     "name": "stdout",
     "output_type": "stream",
     "text": [
      "Total cell type: {'CD4T', 'FCGR3A+Mono', 'CD8T', 'NK', 'B', 'CD14+Mono', 'Dendritic'}\n",
      "The count of control: 574\n",
      "The count of stimulated: 541\n",
      "The cos between control and stimulated: tensor([0.9935], device='cuda:0')\n",
      "The size of filtered_input_data: 500\n"
     ]
    },
    {
     "data": {
      "application/vnd.jupyter.widget-view+json": {
       "model_id": "f0ae0902487f4330b34f05477240b638",
       "version_major": 2,
       "version_minor": 0
      },
      "text/plain": [
       "Map (num_proc=16):   0%|          | 0/500 [00:00<?, ? examples/s]"
      ]
     },
     "metadata": {},
     "output_type": "display_data"
    },
    {
     "data": {
      "application/vnd.jupyter.widget-view+json": {
       "model_id": "0cd0c08ed7c545aa92da20805c2dc6e5",
       "version_major": 2,
       "version_minor": 0
      },
      "text/plain": [
       "Map (num_proc=16):   0%|          | 0/500 [00:00<?, ? examples/s]"
      ]
     },
     "metadata": {},
     "output_type": "display_data"
    },
    {
     "data": {
      "application/vnd.jupyter.widget-view+json": {
       "model_id": "384e439924ec4a78921f0d6039fc530e",
       "version_major": 2,
       "version_minor": 0
      },
      "text/plain": [
       "Map (num_proc=16):   0%|          | 0/100 [00:00<?, ? examples/s]"
      ]
     },
     "metadata": {},
     "output_type": "display_data"
    },
    {
     "name": "stdout",
     "output_type": "stream",
     "text": [
      "torch.Size([100, 884, 512])\n",
      "torch.Size([100, 884, 512])\n"
     ]
    },
    {
     "data": {
      "application/vnd.jupyter.widget-view+json": {
       "model_id": "bad9fcf955784e8bb4b0aa152f112fe4",
       "version_major": 2,
       "version_minor": 0
      },
      "text/plain": [
       "Map (num_proc=16):   0%|          | 0/100 [00:00<?, ? examples/s]"
      ]
     },
     "metadata": {},
     "output_type": "display_data"
    },
    {
     "name": "stdout",
     "output_type": "stream",
     "text": [
      "torch.Size([100, 401, 512])\n",
      "torch.Size([100, 401, 512])\n"
     ]
    },
    {
     "data": {
      "application/vnd.jupyter.widget-view+json": {
       "model_id": "55805f3cae514d33b64a3ed77c9a2c54",
       "version_major": 2,
       "version_minor": 0
      },
      "text/plain": [
       "Map (num_proc=16):   0%|          | 0/100 [00:00<?, ? examples/s]"
      ]
     },
     "metadata": {},
     "output_type": "display_data"
    },
    {
     "name": "stdout",
     "output_type": "stream",
     "text": [
      "torch.Size([100, 330, 512])\n",
      "torch.Size([100, 330, 512])\n"
     ]
    },
    {
     "data": {
      "application/vnd.jupyter.widget-view+json": {
       "model_id": "bdd73dfbf0d24c07b58a65fca96bb332",
       "version_major": 2,
       "version_minor": 0
      },
      "text/plain": [
       "Map (num_proc=16):   0%|          | 0/100 [00:00<?, ? examples/s]"
      ]
     },
     "metadata": {},
     "output_type": "display_data"
    },
    {
     "name": "stdout",
     "output_type": "stream",
     "text": [
      "torch.Size([100, 270, 512])\n",
      "torch.Size([100, 270, 512])\n"
     ]
    },
    {
     "data": {
      "application/vnd.jupyter.widget-view+json": {
       "model_id": "6cbd0d8d69c5461da4c1e31952117db1",
       "version_major": 2,
       "version_minor": 0
      },
      "text/plain": [
       "Map (num_proc=16):   0%|          | 0/100 [00:00<?, ? examples/s]"
      ]
     },
     "metadata": {},
     "output_type": "display_data"
    },
    {
     "name": "stdout",
     "output_type": "stream",
     "text": [
      "torch.Size([100, 246, 512])\n",
      "torch.Size([100, 246, 512])\n",
      "['ENSG00000176273', 'ENSG00000135517', 'ENSG00000267710', 'ENSG00000186340', 'ENSG00000268885']\n",
      "[15552, 8816, 21546, 17340, 21838]\n"
     ]
    },
    {
     "name": "stderr",
     "output_type": "stream",
     "text": [
      "Some weights of BertForSequenceClassification were not initialized from the model checkpoint at /mnt/nfs/xz/geneformer/Geneformer34m/examples/pretraining_new_model/output_own/models/230813_170132_geneformer_30M_L12_emb512_SL2048_E3_B12_LR0.0005_LSlinear_WU10000_Oadamw_DS64/models and are newly initialized: ['bert.pooler.dense.weight', 'classifier.bias', 'classifier.weight', 'bert.pooler.dense.bias']\n",
      "You should probably TRAIN this model on a down-stream task to be able to use it for predictions and inference.\n"
     ]
    },
    {
     "name": "stdout",
     "output_type": "stream",
     "text": [
      "Total cell type: {'CD4T', 'FCGR3A+Mono', 'CD8T', 'NK', 'B', 'CD14+Mono', 'Dendritic'}\n",
      "The count of control: 574\n",
      "The count of stimulated: 541\n",
      "The cos between control and stimulated: tensor([0.9935], device='cuda:0')\n",
      "The size of filtered_input_data: 500\n"
     ]
    },
    {
     "data": {
      "application/vnd.jupyter.widget-view+json": {
       "model_id": "1c4ff87837914b4f972c0768709febe8",
       "version_major": 2,
       "version_minor": 0
      },
      "text/plain": [
       "Map (num_proc=16):   0%|          | 0/500 [00:00<?, ? examples/s]"
      ]
     },
     "metadata": {},
     "output_type": "display_data"
    },
    {
     "data": {
      "application/vnd.jupyter.widget-view+json": {
       "model_id": "69bac09002db4d538a124d37919e7a57",
       "version_major": 2,
       "version_minor": 0
      },
      "text/plain": [
       "Map (num_proc=16):   0%|          | 0/500 [00:00<?, ? examples/s]"
      ]
     },
     "metadata": {},
     "output_type": "display_data"
    },
    {
     "data": {
      "application/vnd.jupyter.widget-view+json": {
       "model_id": "1bbb17295dea4ad2b5965bf5e68f2b97",
       "version_major": 2,
       "version_minor": 0
      },
      "text/plain": [
       "Map (num_proc=16):   0%|          | 0/100 [00:00<?, ? examples/s]"
      ]
     },
     "metadata": {},
     "output_type": "display_data"
    },
    {
     "name": "stdout",
     "output_type": "stream",
     "text": [
      "torch.Size([100, 884, 512])\n",
      "torch.Size([100, 884, 512])\n"
     ]
    },
    {
     "data": {
      "application/vnd.jupyter.widget-view+json": {
       "model_id": "578b4b6190c24003b03bcb952eff3b80",
       "version_major": 2,
       "version_minor": 0
      },
      "text/plain": [
       "Map (num_proc=16):   0%|          | 0/100 [00:00<?, ? examples/s]"
      ]
     },
     "metadata": {},
     "output_type": "display_data"
    },
    {
     "name": "stdout",
     "output_type": "stream",
     "text": [
      "torch.Size([100, 401, 512])\n",
      "torch.Size([100, 401, 512])\n"
     ]
    },
    {
     "data": {
      "application/vnd.jupyter.widget-view+json": {
       "model_id": "aa6e1504781a40b9bdb6af9ebc9b2d93",
       "version_major": 2,
       "version_minor": 0
      },
      "text/plain": [
       "Map (num_proc=16):   0%|          | 0/100 [00:00<?, ? examples/s]"
      ]
     },
     "metadata": {},
     "output_type": "display_data"
    },
    {
     "name": "stdout",
     "output_type": "stream",
     "text": [
      "torch.Size([100, 330, 512])\n",
      "torch.Size([100, 330, 512])\n"
     ]
    },
    {
     "data": {
      "application/vnd.jupyter.widget-view+json": {
       "model_id": "47b5df72964c443ab59872964f090a26",
       "version_major": 2,
       "version_minor": 0
      },
      "text/plain": [
       "Map (num_proc=16):   0%|          | 0/100 [00:00<?, ? examples/s]"
      ]
     },
     "metadata": {},
     "output_type": "display_data"
    },
    {
     "name": "stdout",
     "output_type": "stream",
     "text": [
      "torch.Size([100, 270, 512])\n",
      "torch.Size([100, 270, 512])\n"
     ]
    },
    {
     "data": {
      "application/vnd.jupyter.widget-view+json": {
       "model_id": "a68e4541bc884364b8bfa88e527b2e7c",
       "version_major": 2,
       "version_minor": 0
      },
      "text/plain": [
       "Map (num_proc=16):   0%|          | 0/100 [00:00<?, ? examples/s]"
      ]
     },
     "metadata": {},
     "output_type": "display_data"
    },
    {
     "name": "stdout",
     "output_type": "stream",
     "text": [
      "torch.Size([100, 246, 512])\n",
      "torch.Size([100, 246, 512])\n",
      "['ENSG00000133606', 'ENSG00000139364', 'ENSG00000276045', 'ENSG00000275113', 'ENSG00000114735']\n",
      "[8489, 9529, 22456, 22417, 6087]\n"
     ]
    },
    {
     "name": "stderr",
     "output_type": "stream",
     "text": [
      "Some weights of BertForSequenceClassification were not initialized from the model checkpoint at /mnt/nfs/xz/geneformer/Geneformer34m/examples/pretraining_new_model/output_own/models/230813_170132_geneformer_30M_L12_emb512_SL2048_E3_B12_LR0.0005_LSlinear_WU10000_Oadamw_DS64/models and are newly initialized: ['bert.pooler.dense.weight', 'classifier.bias', 'classifier.weight', 'bert.pooler.dense.bias']\n",
      "You should probably TRAIN this model on a down-stream task to be able to use it for predictions and inference.\n"
     ]
    },
    {
     "name": "stdout",
     "output_type": "stream",
     "text": [
      "Total cell type: {'CD4T', 'FCGR3A+Mono', 'CD8T', 'NK', 'B', 'CD14+Mono', 'Dendritic'}\n",
      "The count of control: 574\n",
      "The count of stimulated: 541\n",
      "The cos between control and stimulated: tensor([0.9935], device='cuda:0')\n",
      "The size of filtered_input_data: 500\n"
     ]
    },
    {
     "data": {
      "application/vnd.jupyter.widget-view+json": {
       "model_id": "e0a0b9427e24427c8f69a88f5214cce7",
       "version_major": 2,
       "version_minor": 0
      },
      "text/plain": [
       "Map (num_proc=16):   0%|          | 0/500 [00:00<?, ? examples/s]"
      ]
     },
     "metadata": {},
     "output_type": "display_data"
    },
    {
     "data": {
      "application/vnd.jupyter.widget-view+json": {
       "model_id": "fd815cbce6624b899129e1b90000ff17",
       "version_major": 2,
       "version_minor": 0
      },
      "text/plain": [
       "Map (num_proc=16):   0%|          | 0/500 [00:00<?, ? examples/s]"
      ]
     },
     "metadata": {},
     "output_type": "display_data"
    },
    {
     "data": {
      "application/vnd.jupyter.widget-view+json": {
       "model_id": "0e943b55eb6345fd8afa185ccd3f228c",
       "version_major": 2,
       "version_minor": 0
      },
      "text/plain": [
       "Map (num_proc=16):   0%|          | 0/100 [00:00<?, ? examples/s]"
      ]
     },
     "metadata": {},
     "output_type": "display_data"
    },
    {
     "name": "stdout",
     "output_type": "stream",
     "text": [
      "torch.Size([100, 883, 512])\n",
      "torch.Size([100, 883, 512])\n"
     ]
    },
    {
     "data": {
      "application/vnd.jupyter.widget-view+json": {
       "model_id": "cec2706c211c450d95bfd37ec70b54b3",
       "version_major": 2,
       "version_minor": 0
      },
      "text/plain": [
       "Map (num_proc=16):   0%|          | 0/100 [00:00<?, ? examples/s]"
      ]
     },
     "metadata": {},
     "output_type": "display_data"
    },
    {
     "name": "stdout",
     "output_type": "stream",
     "text": [
      "torch.Size([100, 400, 512])\n",
      "torch.Size([100, 400, 512])\n"
     ]
    },
    {
     "data": {
      "application/vnd.jupyter.widget-view+json": {
       "model_id": "a5c1a3755b7a4b0cb682287d034091ee",
       "version_major": 2,
       "version_minor": 0
      },
      "text/plain": [
       "Map (num_proc=16):   0%|          | 0/100 [00:00<?, ? examples/s]"
      ]
     },
     "metadata": {},
     "output_type": "display_data"
    },
    {
     "name": "stdout",
     "output_type": "stream",
     "text": [
      "torch.Size([100, 330, 512])\n",
      "torch.Size([100, 330, 512])\n"
     ]
    },
    {
     "data": {
      "application/vnd.jupyter.widget-view+json": {
       "model_id": "d40a6ff369be4cfe8159215aad831f01",
       "version_major": 2,
       "version_minor": 0
      },
      "text/plain": [
       "Map (num_proc=16):   0%|          | 0/100 [00:00<?, ? examples/s]"
      ]
     },
     "metadata": {},
     "output_type": "display_data"
    },
    {
     "name": "stdout",
     "output_type": "stream",
     "text": [
      "torch.Size([100, 270, 512])\n",
      "torch.Size([100, 270, 512])\n"
     ]
    },
    {
     "data": {
      "application/vnd.jupyter.widget-view+json": {
       "model_id": "b8c20df168c044878aa4f68c729cc600",
       "version_major": 2,
       "version_minor": 0
      },
      "text/plain": [
       "Map (num_proc=16):   0%|          | 0/100 [00:00<?, ? examples/s]"
      ]
     },
     "metadata": {},
     "output_type": "display_data"
    },
    {
     "name": "stdout",
     "output_type": "stream",
     "text": [
      "torch.Size([100, 246, 512])\n",
      "torch.Size([100, 246, 512])\n",
      "['ENSG00000086506', 'ENSG00000236183', 'ENSG00000275819', 'ENSG00000263699', 'ENSG00000186063']\n",
      "[3502, 20183, 23024, 21368, 17274]\n"
     ]
    },
    {
     "name": "stderr",
     "output_type": "stream",
     "text": [
      "Some weights of BertForSequenceClassification were not initialized from the model checkpoint at /mnt/nfs/xz/geneformer/Geneformer34m/examples/pretraining_new_model/output_own/models/230813_170132_geneformer_30M_L12_emb512_SL2048_E3_B12_LR0.0005_LSlinear_WU10000_Oadamw_DS64/models and are newly initialized: ['bert.pooler.dense.weight', 'classifier.bias', 'classifier.weight', 'bert.pooler.dense.bias']\n",
      "You should probably TRAIN this model on a down-stream task to be able to use it for predictions and inference.\n"
     ]
    },
    {
     "name": "stdout",
     "output_type": "stream",
     "text": [
      "Total cell type: {'CD4T', 'FCGR3A+Mono', 'CD8T', 'NK', 'B', 'CD14+Mono', 'Dendritic'}\n",
      "The count of control: 574\n",
      "The count of stimulated: 541\n",
      "The cos between control and stimulated: tensor([0.9935], device='cuda:0')\n",
      "The size of filtered_input_data: 500\n"
     ]
    },
    {
     "data": {
      "application/vnd.jupyter.widget-view+json": {
       "model_id": "9caaeda905854f82bbb01aac75c2edd3",
       "version_major": 2,
       "version_minor": 0
      },
      "text/plain": [
       "Map (num_proc=16):   0%|          | 0/500 [00:00<?, ? examples/s]"
      ]
     },
     "metadata": {},
     "output_type": "display_data"
    },
    {
     "data": {
      "application/vnd.jupyter.widget-view+json": {
       "model_id": "75331ef62dc049e5bfff97dd1cda373d",
       "version_major": 2,
       "version_minor": 0
      },
      "text/plain": [
       "Map (num_proc=16):   0%|          | 0/500 [00:00<?, ? examples/s]"
      ]
     },
     "metadata": {},
     "output_type": "display_data"
    },
    {
     "data": {
      "application/vnd.jupyter.widget-view+json": {
       "model_id": "5923632bce9e48ed91a857e38a191b66",
       "version_major": 2,
       "version_minor": 0
      },
      "text/plain": [
       "Map (num_proc=16):   0%|          | 0/100 [00:00<?, ? examples/s]"
      ]
     },
     "metadata": {},
     "output_type": "display_data"
    },
    {
     "name": "stdout",
     "output_type": "stream",
     "text": [
      "torch.Size([100, 884, 512])\n",
      "torch.Size([100, 884, 512])\n"
     ]
    },
    {
     "data": {
      "application/vnd.jupyter.widget-view+json": {
       "model_id": "b096494456904068a0d1b2f65522d266",
       "version_major": 2,
       "version_minor": 0
      },
      "text/plain": [
       "Map (num_proc=16):   0%|          | 0/100 [00:00<?, ? examples/s]"
      ]
     },
     "metadata": {},
     "output_type": "display_data"
    },
    {
     "name": "stdout",
     "output_type": "stream",
     "text": [
      "torch.Size([100, 401, 512])\n",
      "torch.Size([100, 401, 512])\n"
     ]
    },
    {
     "data": {
      "application/vnd.jupyter.widget-view+json": {
       "model_id": "95d2e93edc7e422ba27a631ed8621222",
       "version_major": 2,
       "version_minor": 0
      },
      "text/plain": [
       "Map (num_proc=16):   0%|          | 0/100 [00:00<?, ? examples/s]"
      ]
     },
     "metadata": {},
     "output_type": "display_data"
    },
    {
     "name": "stdout",
     "output_type": "stream",
     "text": [
      "torch.Size([100, 330, 512])\n",
      "torch.Size([100, 330, 512])\n"
     ]
    },
    {
     "data": {
      "application/vnd.jupyter.widget-view+json": {
       "model_id": "7b9e8a7211e641b7841980496869a47c",
       "version_major": 2,
       "version_minor": 0
      },
      "text/plain": [
       "Map (num_proc=16):   0%|          | 0/100 [00:00<?, ? examples/s]"
      ]
     },
     "metadata": {},
     "output_type": "display_data"
    },
    {
     "name": "stdout",
     "output_type": "stream",
     "text": [
      "torch.Size([100, 270, 512])\n",
      "torch.Size([100, 270, 512])\n"
     ]
    },
    {
     "data": {
      "application/vnd.jupyter.widget-view+json": {
       "model_id": "5558cc323f904035b832b6410c857e1e",
       "version_major": 2,
       "version_minor": 0
      },
      "text/plain": [
       "Map (num_proc=16):   0%|          | 0/100 [00:00<?, ? examples/s]"
      ]
     },
     "metadata": {},
     "output_type": "display_data"
    },
    {
     "name": "stdout",
     "output_type": "stream",
     "text": [
      "torch.Size([100, 246, 512])\n",
      "torch.Size([100, 246, 512])\n",
      "['ENSG00000120709', 'ENSG00000215952', 'ENSG00000185222', 'ENSG00000264881', 'ENSG00000107281']\n",
      "[6849, 383, 17084, 1187, 5179]\n"
     ]
    },
    {
     "name": "stderr",
     "output_type": "stream",
     "text": [
      "Some weights of BertForSequenceClassification were not initialized from the model checkpoint at /mnt/nfs/xz/geneformer/Geneformer34m/examples/pretraining_new_model/output_own/models/230813_170132_geneformer_30M_L12_emb512_SL2048_E3_B12_LR0.0005_LSlinear_WU10000_Oadamw_DS64/models and are newly initialized: ['bert.pooler.dense.weight', 'classifier.bias', 'classifier.weight', 'bert.pooler.dense.bias']\n",
      "You should probably TRAIN this model on a down-stream task to be able to use it for predictions and inference.\n"
     ]
    },
    {
     "name": "stdout",
     "output_type": "stream",
     "text": [
      "Total cell type: {'CD4T', 'FCGR3A+Mono', 'CD8T', 'NK', 'B', 'CD14+Mono', 'Dendritic'}\n",
      "The count of control: 574\n",
      "The count of stimulated: 541\n",
      "The cos between control and stimulated: tensor([0.9935], device='cuda:0')\n",
      "The size of filtered_input_data: 500\n"
     ]
    },
    {
     "data": {
      "application/vnd.jupyter.widget-view+json": {
       "model_id": "65f82f19b22745f38fac2fab6074ef78",
       "version_major": 2,
       "version_minor": 0
      },
      "text/plain": [
       "Map (num_proc=16):   0%|          | 0/500 [00:00<?, ? examples/s]"
      ]
     },
     "metadata": {},
     "output_type": "display_data"
    },
    {
     "data": {
      "application/vnd.jupyter.widget-view+json": {
       "model_id": "5d5c853cf61a445ea78aefb4fc4ab59c",
       "version_major": 2,
       "version_minor": 0
      },
      "text/plain": [
       "Map (num_proc=16):   0%|          | 0/500 [00:00<?, ? examples/s]"
      ]
     },
     "metadata": {},
     "output_type": "display_data"
    },
    {
     "data": {
      "application/vnd.jupyter.widget-view+json": {
       "model_id": "473962aa7b1f4d0ba51b369dc29f8f34",
       "version_major": 2,
       "version_minor": 0
      },
      "text/plain": [
       "Map (num_proc=16):   0%|          | 0/100 [00:00<?, ? examples/s]"
      ]
     },
     "metadata": {},
     "output_type": "display_data"
    },
    {
     "name": "stdout",
     "output_type": "stream",
     "text": [
      "torch.Size([100, 884, 512])\n",
      "torch.Size([100, 884, 512])\n"
     ]
    },
    {
     "data": {
      "application/vnd.jupyter.widget-view+json": {
       "model_id": "2d92b55c085f427ab9af0c57a537ecea",
       "version_major": 2,
       "version_minor": 0
      },
      "text/plain": [
       "Map (num_proc=16):   0%|          | 0/100 [00:00<?, ? examples/s]"
      ]
     },
     "metadata": {},
     "output_type": "display_data"
    },
    {
     "name": "stdout",
     "output_type": "stream",
     "text": [
      "torch.Size([100, 401, 512])\n",
      "torch.Size([100, 401, 512])\n"
     ]
    },
    {
     "data": {
      "application/vnd.jupyter.widget-view+json": {
       "model_id": "630d3cdfd6d94aaea0d78fc4b59b60ca",
       "version_major": 2,
       "version_minor": 0
      },
      "text/plain": [
       "Map (num_proc=16):   0%|          | 0/100 [00:00<?, ? examples/s]"
      ]
     },
     "metadata": {},
     "output_type": "display_data"
    },
    {
     "name": "stdout",
     "output_type": "stream",
     "text": [
      "torch.Size([100, 330, 512])\n",
      "torch.Size([100, 330, 512])\n"
     ]
    },
    {
     "data": {
      "application/vnd.jupyter.widget-view+json": {
       "model_id": "72fc53699a7548f283b5d02c87a0ac3a",
       "version_major": 2,
       "version_minor": 0
      },
      "text/plain": [
       "Map (num_proc=16):   0%|          | 0/100 [00:00<?, ? examples/s]"
      ]
     },
     "metadata": {},
     "output_type": "display_data"
    },
    {
     "name": "stdout",
     "output_type": "stream",
     "text": [
      "torch.Size([100, 270, 512])\n",
      "torch.Size([100, 270, 512])\n"
     ]
    },
    {
     "data": {
      "application/vnd.jupyter.widget-view+json": {
       "model_id": "05f3f3fd5ee44544b1583b1ac70e8401",
       "version_major": 2,
       "version_minor": 0
      },
      "text/plain": [
       "Map (num_proc=16):   0%|          | 0/100 [00:00<?, ? examples/s]"
      ]
     },
     "metadata": {},
     "output_type": "display_data"
    },
    {
     "name": "stdout",
     "output_type": "stream",
     "text": [
      "torch.Size([100, 246, 512])\n",
      "torch.Size([100, 246, 512])\n",
      "['ENSG00000158062', 'ENSG00000175206', 'ENSG00000177469', 'ENSG00000138175', 'ENSG00000167191']\n",
      "[11848, 15377, 15746, 9338, 13664]\n"
     ]
    },
    {
     "name": "stderr",
     "output_type": "stream",
     "text": [
      "Some weights of BertForSequenceClassification were not initialized from the model checkpoint at /mnt/nfs/xz/geneformer/Geneformer34m/examples/pretraining_new_model/output_own/models/230813_170132_geneformer_30M_L12_emb512_SL2048_E3_B12_LR0.0005_LSlinear_WU10000_Oadamw_DS64/models and are newly initialized: ['bert.pooler.dense.weight', 'classifier.bias', 'classifier.weight', 'bert.pooler.dense.bias']\n",
      "You should probably TRAIN this model on a down-stream task to be able to use it for predictions and inference.\n"
     ]
    },
    {
     "name": "stdout",
     "output_type": "stream",
     "text": [
      "Total cell type: {'CD4T', 'FCGR3A+Mono', 'CD8T', 'NK', 'B', 'CD14+Mono', 'Dendritic'}\n",
      "The count of control: 574\n",
      "The count of stimulated: 541\n",
      "The cos between control and stimulated: tensor([0.9935], device='cuda:0')\n",
      "The size of filtered_input_data: 500\n"
     ]
    },
    {
     "data": {
      "application/vnd.jupyter.widget-view+json": {
       "model_id": "77dae0c703754e08a211ffdc5d5e11c5",
       "version_major": 2,
       "version_minor": 0
      },
      "text/plain": [
       "Map (num_proc=16):   0%|          | 0/500 [00:00<?, ? examples/s]"
      ]
     },
     "metadata": {},
     "output_type": "display_data"
    },
    {
     "data": {
      "application/vnd.jupyter.widget-view+json": {
       "model_id": "1793e215c62c4fee8d37cf905ea43bc3",
       "version_major": 2,
       "version_minor": 0
      },
      "text/plain": [
       "Map (num_proc=16):   0%|          | 0/500 [00:00<?, ? examples/s]"
      ]
     },
     "metadata": {},
     "output_type": "display_data"
    },
    {
     "data": {
      "application/vnd.jupyter.widget-view+json": {
       "model_id": "616bccac7910435ba1b085dbdf0a0d82",
       "version_major": 2,
       "version_minor": 0
      },
      "text/plain": [
       "Map (num_proc=16):   0%|          | 0/100 [00:00<?, ? examples/s]"
      ]
     },
     "metadata": {},
     "output_type": "display_data"
    },
    {
     "name": "stdout",
     "output_type": "stream",
     "text": [
      "torch.Size([100, 884, 512])\n",
      "torch.Size([100, 884, 512])\n"
     ]
    },
    {
     "data": {
      "application/vnd.jupyter.widget-view+json": {
       "model_id": "75d10bf6f0224e6588d494caaf43f672",
       "version_major": 2,
       "version_minor": 0
      },
      "text/plain": [
       "Map (num_proc=16):   0%|          | 0/100 [00:00<?, ? examples/s]"
      ]
     },
     "metadata": {},
     "output_type": "display_data"
    },
    {
     "name": "stdout",
     "output_type": "stream",
     "text": [
      "torch.Size([100, 401, 512])\n",
      "torch.Size([100, 401, 512])\n"
     ]
    },
    {
     "data": {
      "application/vnd.jupyter.widget-view+json": {
       "model_id": "076a0093d72848309a0993072884f381",
       "version_major": 2,
       "version_minor": 0
      },
      "text/plain": [
       "Map (num_proc=16):   0%|          | 0/100 [00:00<?, ? examples/s]"
      ]
     },
     "metadata": {},
     "output_type": "display_data"
    },
    {
     "name": "stdout",
     "output_type": "stream",
     "text": [
      "torch.Size([100, 330, 512])\n",
      "torch.Size([100, 330, 512])\n"
     ]
    },
    {
     "data": {
      "application/vnd.jupyter.widget-view+json": {
       "model_id": "2d4deced987c4e47a544552362d2e98c",
       "version_major": 2,
       "version_minor": 0
      },
      "text/plain": [
       "Map (num_proc=16):   0%|          | 0/100 [00:00<?, ? examples/s]"
      ]
     },
     "metadata": {},
     "output_type": "display_data"
    },
    {
     "name": "stdout",
     "output_type": "stream",
     "text": [
      "torch.Size([100, 270, 512])\n",
      "torch.Size([100, 270, 512])\n"
     ]
    },
    {
     "data": {
      "application/vnd.jupyter.widget-view+json": {
       "model_id": "12601abb733c4206bd185a4364fba08d",
       "version_major": 2,
       "version_minor": 0
      },
      "text/plain": [
       "Map (num_proc=16):   0%|          | 0/100 [00:00<?, ? examples/s]"
      ]
     },
     "metadata": {},
     "output_type": "display_data"
    },
    {
     "name": "stdout",
     "output_type": "stream",
     "text": [
      "torch.Size([100, 246, 512])\n",
      "torch.Size([100, 246, 512])\n",
      "['ENSG00000185303', 'ENSG00000166833', 'ENSG00000142484', 'ENSG00000159189', 'ENSG00000139174']\n",
      "[17106, 13573, 9944, 11982, 9492]\n"
     ]
    },
    {
     "name": "stderr",
     "output_type": "stream",
     "text": [
      "Some weights of BertForSequenceClassification were not initialized from the model checkpoint at /mnt/nfs/xz/geneformer/Geneformer34m/examples/pretraining_new_model/output_own/models/230813_170132_geneformer_30M_L12_emb512_SL2048_E3_B12_LR0.0005_LSlinear_WU10000_Oadamw_DS64/models and are newly initialized: ['bert.pooler.dense.weight', 'classifier.bias', 'classifier.weight', 'bert.pooler.dense.bias']\n",
      "You should probably TRAIN this model on a down-stream task to be able to use it for predictions and inference.\n"
     ]
    },
    {
     "name": "stdout",
     "output_type": "stream",
     "text": [
      "Total cell type: {'CD4T', 'FCGR3A+Mono', 'CD8T', 'NK', 'B', 'CD14+Mono', 'Dendritic'}\n",
      "The count of control: 574\n",
      "The count of stimulated: 541\n",
      "The cos between control and stimulated: tensor([0.9935], device='cuda:0')\n",
      "The size of filtered_input_data: 500\n"
     ]
    },
    {
     "data": {
      "application/vnd.jupyter.widget-view+json": {
       "model_id": "12c59e19e23a486aaf1335692258bdf5",
       "version_major": 2,
       "version_minor": 0
      },
      "text/plain": [
       "Map (num_proc=16):   0%|          | 0/500 [00:00<?, ? examples/s]"
      ]
     },
     "metadata": {},
     "output_type": "display_data"
    },
    {
     "data": {
      "application/vnd.jupyter.widget-view+json": {
       "model_id": "7ec2909ebaf9445cbe8ba6fa92daca28",
       "version_major": 2,
       "version_minor": 0
      },
      "text/plain": [
       "Map (num_proc=16):   0%|          | 0/500 [00:00<?, ? examples/s]"
      ]
     },
     "metadata": {},
     "output_type": "display_data"
    },
    {
     "data": {
      "application/vnd.jupyter.widget-view+json": {
       "model_id": "1b94211a611f463fbf065bd8ff5049ea",
       "version_major": 2,
       "version_minor": 0
      },
      "text/plain": [
       "Map (num_proc=16):   0%|          | 0/100 [00:00<?, ? examples/s]"
      ]
     },
     "metadata": {},
     "output_type": "display_data"
    },
    {
     "name": "stdout",
     "output_type": "stream",
     "text": [
      "torch.Size([100, 884, 512])\n",
      "torch.Size([100, 884, 512])\n"
     ]
    },
    {
     "data": {
      "application/vnd.jupyter.widget-view+json": {
       "model_id": "11ea194f19ca486f94f14d20af62a7d4",
       "version_major": 2,
       "version_minor": 0
      },
      "text/plain": [
       "Map (num_proc=16):   0%|          | 0/100 [00:00<?, ? examples/s]"
      ]
     },
     "metadata": {},
     "output_type": "display_data"
    },
    {
     "name": "stdout",
     "output_type": "stream",
     "text": [
      "torch.Size([100, 401, 512])\n",
      "torch.Size([100, 401, 512])\n"
     ]
    },
    {
     "data": {
      "application/vnd.jupyter.widget-view+json": {
       "model_id": "5840c03c2bfd46a9a4dc774ca2c5b13d",
       "version_major": 2,
       "version_minor": 0
      },
      "text/plain": [
       "Map (num_proc=16):   0%|          | 0/100 [00:00<?, ? examples/s]"
      ]
     },
     "metadata": {},
     "output_type": "display_data"
    },
    {
     "name": "stdout",
     "output_type": "stream",
     "text": [
      "torch.Size([100, 330, 512])\n",
      "torch.Size([100, 330, 512])\n"
     ]
    },
    {
     "data": {
      "application/vnd.jupyter.widget-view+json": {
       "model_id": "4bbfe67689084c8596a10f4d33ec4e39",
       "version_major": 2,
       "version_minor": 0
      },
      "text/plain": [
       "Map (num_proc=16):   0%|          | 0/100 [00:00<?, ? examples/s]"
      ]
     },
     "metadata": {},
     "output_type": "display_data"
    },
    {
     "name": "stdout",
     "output_type": "stream",
     "text": [
      "torch.Size([100, 270, 512])\n",
      "torch.Size([100, 270, 512])\n"
     ]
    },
    {
     "data": {
      "application/vnd.jupyter.widget-view+json": {
       "model_id": "5243f2f473534af98e1bc7f31ba05c68",
       "version_major": 2,
       "version_minor": 0
      },
      "text/plain": [
       "Map (num_proc=16):   0%|          | 0/100 [00:00<?, ? examples/s]"
      ]
     },
     "metadata": {},
     "output_type": "display_data"
    },
    {
     "name": "stdout",
     "output_type": "stream",
     "text": [
      "torch.Size([100, 246, 512])\n",
      "torch.Size([100, 246, 512])\n",
      "['ENSG00000113312', 'ENSG00000100243', 'ENSG00000268256', 'ENSG00000171722', 'ENSG00000150076']\n",
      "[5941, 4026, 21675, 14709, 10964]\n"
     ]
    },
    {
     "name": "stderr",
     "output_type": "stream",
     "text": [
      "Some weights of BertForSequenceClassification were not initialized from the model checkpoint at /mnt/nfs/xz/geneformer/Geneformer34m/examples/pretraining_new_model/output_own/models/230813_170132_geneformer_30M_L12_emb512_SL2048_E3_B12_LR0.0005_LSlinear_WU10000_Oadamw_DS64/models and are newly initialized: ['bert.pooler.dense.weight', 'classifier.bias', 'classifier.weight', 'bert.pooler.dense.bias']\n",
      "You should probably TRAIN this model on a down-stream task to be able to use it for predictions and inference.\n"
     ]
    },
    {
     "name": "stdout",
     "output_type": "stream",
     "text": [
      "Total cell type: {'CD4T', 'FCGR3A+Mono', 'CD8T', 'NK', 'B', 'CD14+Mono', 'Dendritic'}\n",
      "The count of control: 574\n",
      "The count of stimulated: 541\n",
      "The cos between control and stimulated: tensor([0.9935], device='cuda:0')\n",
      "The size of filtered_input_data: 500\n"
     ]
    },
    {
     "data": {
      "application/vnd.jupyter.widget-view+json": {
       "model_id": "44b4f8d79d91445ca8f40db5ce8028af",
       "version_major": 2,
       "version_minor": 0
      },
      "text/plain": [
       "Map (num_proc=16):   0%|          | 0/500 [00:00<?, ? examples/s]"
      ]
     },
     "metadata": {},
     "output_type": "display_data"
    },
    {
     "data": {
      "application/vnd.jupyter.widget-view+json": {
       "model_id": "37c0c053833d4d8da672b357d320769e",
       "version_major": 2,
       "version_minor": 0
      },
      "text/plain": [
       "Map (num_proc=16):   0%|          | 0/500 [00:00<?, ? examples/s]"
      ]
     },
     "metadata": {},
     "output_type": "display_data"
    },
    {
     "data": {
      "application/vnd.jupyter.widget-view+json": {
       "model_id": "359fe4b7c7d246f98592667c4c61bdb7",
       "version_major": 2,
       "version_minor": 0
      },
      "text/plain": [
       "Map (num_proc=16):   0%|          | 0/100 [00:00<?, ? examples/s]"
      ]
     },
     "metadata": {},
     "output_type": "display_data"
    },
    {
     "name": "stdout",
     "output_type": "stream",
     "text": [
      "torch.Size([100, 884, 512])\n",
      "torch.Size([100, 884, 512])\n"
     ]
    },
    {
     "data": {
      "application/vnd.jupyter.widget-view+json": {
       "model_id": "f8dbf84960034840a7d06a8ed7c17c95",
       "version_major": 2,
       "version_minor": 0
      },
      "text/plain": [
       "Map (num_proc=16):   0%|          | 0/100 [00:00<?, ? examples/s]"
      ]
     },
     "metadata": {},
     "output_type": "display_data"
    },
    {
     "name": "stdout",
     "output_type": "stream",
     "text": [
      "torch.Size([100, 401, 512])\n",
      "torch.Size([100, 401, 512])\n"
     ]
    },
    {
     "data": {
      "application/vnd.jupyter.widget-view+json": {
       "model_id": "a1023439080a422580f44fc4517203ec",
       "version_major": 2,
       "version_minor": 0
      },
      "text/plain": [
       "Map (num_proc=16):   0%|          | 0/100 [00:00<?, ? examples/s]"
      ]
     },
     "metadata": {},
     "output_type": "display_data"
    },
    {
     "name": "stdout",
     "output_type": "stream",
     "text": [
      "torch.Size([100, 330, 512])\n",
      "torch.Size([100, 330, 512])\n"
     ]
    },
    {
     "data": {
      "application/vnd.jupyter.widget-view+json": {
       "model_id": "65d066494c214200916454744522e59d",
       "version_major": 2,
       "version_minor": 0
      },
      "text/plain": [
       "Map (num_proc=16):   0%|          | 0/100 [00:00<?, ? examples/s]"
      ]
     },
     "metadata": {},
     "output_type": "display_data"
    },
    {
     "name": "stdout",
     "output_type": "stream",
     "text": [
      "torch.Size([100, 270, 512])\n",
      "torch.Size([100, 270, 512])\n"
     ]
    },
    {
     "data": {
      "application/vnd.jupyter.widget-view+json": {
       "model_id": "d4e3f4abc4af4051b1fb1072fbe41778",
       "version_major": 2,
       "version_minor": 0
      },
      "text/plain": [
       "Map (num_proc=16):   0%|          | 0/100 [00:00<?, ? examples/s]"
      ]
     },
     "metadata": {},
     "output_type": "display_data"
    },
    {
     "name": "stdout",
     "output_type": "stream",
     "text": [
      "torch.Size([100, 246, 512])\n",
      "torch.Size([100, 246, 512])\n",
      "['ENSG00000271809', 'ENSG00000265899', 'ENSG00000185088', 'ENSG00000100014', 'ENSG00000183715']\n",
      "[22190, 1419, 17056, 3956, 16762]\n"
     ]
    },
    {
     "name": "stderr",
     "output_type": "stream",
     "text": [
      "Some weights of BertForSequenceClassification were not initialized from the model checkpoint at /mnt/nfs/xz/geneformer/Geneformer34m/examples/pretraining_new_model/output_own/models/230813_170132_geneformer_30M_L12_emb512_SL2048_E3_B12_LR0.0005_LSlinear_WU10000_Oadamw_DS64/models and are newly initialized: ['bert.pooler.dense.weight', 'classifier.bias', 'classifier.weight', 'bert.pooler.dense.bias']\n",
      "You should probably TRAIN this model on a down-stream task to be able to use it for predictions and inference.\n"
     ]
    },
    {
     "name": "stdout",
     "output_type": "stream",
     "text": [
      "Total cell type: {'CD4T', 'FCGR3A+Mono', 'CD8T', 'NK', 'B', 'CD14+Mono', 'Dendritic'}\n",
      "The count of control: 574\n",
      "The count of stimulated: 541\n",
      "The cos between control and stimulated: tensor([0.9935], device='cuda:0')\n",
      "The size of filtered_input_data: 500\n"
     ]
    },
    {
     "data": {
      "application/vnd.jupyter.widget-view+json": {
       "model_id": "143a9d240e0d428f921f2e54f48b7249",
       "version_major": 2,
       "version_minor": 0
      },
      "text/plain": [
       "Map (num_proc=16):   0%|          | 0/500 [00:00<?, ? examples/s]"
      ]
     },
     "metadata": {},
     "output_type": "display_data"
    },
    {
     "data": {
      "application/vnd.jupyter.widget-view+json": {
       "model_id": "4b6867ebb2794346a60d1e7fc4c0e963",
       "version_major": 2,
       "version_minor": 0
      },
      "text/plain": [
       "Map (num_proc=16):   0%|          | 0/500 [00:00<?, ? examples/s]"
      ]
     },
     "metadata": {},
     "output_type": "display_data"
    },
    {
     "data": {
      "application/vnd.jupyter.widget-view+json": {
       "model_id": "d6aac191c3814c4aaa8ceb9308edfff0",
       "version_major": 2,
       "version_minor": 0
      },
      "text/plain": [
       "Map (num_proc=16):   0%|          | 0/100 [00:00<?, ? examples/s]"
      ]
     },
     "metadata": {},
     "output_type": "display_data"
    },
    {
     "name": "stdout",
     "output_type": "stream",
     "text": [
      "torch.Size([100, 884, 512])\n",
      "torch.Size([100, 884, 512])\n"
     ]
    },
    {
     "data": {
      "application/vnd.jupyter.widget-view+json": {
       "model_id": "4aa80817ad5b41f4913b9f56af31a0d7",
       "version_major": 2,
       "version_minor": 0
      },
      "text/plain": [
       "Map (num_proc=16):   0%|          | 0/100 [00:00<?, ? examples/s]"
      ]
     },
     "metadata": {},
     "output_type": "display_data"
    },
    {
     "name": "stdout",
     "output_type": "stream",
     "text": [
      "torch.Size([100, 401, 512])\n",
      "torch.Size([100, 401, 512])\n"
     ]
    },
    {
     "data": {
      "application/vnd.jupyter.widget-view+json": {
       "model_id": "bea322c7cd5f44b1b7ad76f886463c5e",
       "version_major": 2,
       "version_minor": 0
      },
      "text/plain": [
       "Map (num_proc=16):   0%|          | 0/100 [00:00<?, ? examples/s]"
      ]
     },
     "metadata": {},
     "output_type": "display_data"
    },
    {
     "name": "stdout",
     "output_type": "stream",
     "text": [
      "torch.Size([100, 330, 512])\n",
      "torch.Size([100, 330, 512])\n"
     ]
    },
    {
     "data": {
      "application/vnd.jupyter.widget-view+json": {
       "model_id": "aff6c53fa9de4002b490b1bcc556507c",
       "version_major": 2,
       "version_minor": 0
      },
      "text/plain": [
       "Map (num_proc=16):   0%|          | 0/100 [00:00<?, ? examples/s]"
      ]
     },
     "metadata": {},
     "output_type": "display_data"
    },
    {
     "name": "stdout",
     "output_type": "stream",
     "text": [
      "torch.Size([100, 270, 512])\n",
      "torch.Size([100, 270, 512])\n"
     ]
    },
    {
     "data": {
      "application/vnd.jupyter.widget-view+json": {
       "model_id": "db50f3c2ce9045f39ce757e4292dd943",
       "version_major": 2,
       "version_minor": 0
      },
      "text/plain": [
       "Map (num_proc=16):   0%|          | 0/100 [00:00<?, ? examples/s]"
      ]
     },
     "metadata": {},
     "output_type": "display_data"
    },
    {
     "name": "stdout",
     "output_type": "stream",
     "text": [
      "torch.Size([100, 246, 512])\n",
      "torch.Size([100, 246, 512])\n"
     ]
    }
   ],
   "source": [
    "random_stimulated_list = []\n",
    "for random_seed in range(20):\n",
    "    perturb_type=\"overexpress\"\n",
    "    perturb_rank_shift=None\n",
    "    #genes_to_perturb = ['ENSG00000185745', 'ENSG00000126709','ENSG00000187608','ENSG00000119917','ENSG00000172183'] # target\n",
    "    random.seed(random_seed)\n",
    "    genes_to_perturb = random.sample(list(gene_token_dict.keys())[2:], 5) # random\n",
    "    print(genes_to_perturb)\n",
    "    combos=0\n",
    "    anchor_gene=None\n",
    "    model_type=\"diffusion_12L\"\n",
    "    num_classes = 1\n",
    "    emb_mode=\"cell_and_gene\"\n",
    "    cell_emb_style=\"mean_pool\"\n",
    "    #filter_data={\"cell_type\":['fibroblast']}\n",
    "    filter_data=None\n",
    "    cell_states_to_model={'state_key': 'condition',\n",
    "                          'start_state': 'control', \n",
    "                          'goal_state': 'stimulated'}\n",
    "    max_ncells=2000\n",
    "    #cell_inds_to_perturb={'start':0, 'end':500}\n",
    "    cell_inds_to_perturb='all'\n",
    "    emb_layer=-1\n",
    "    forward_batch_size=100\n",
    "    nproc=16\n",
    "    token_dictionary_file=TOKEN_DICTIONARY_FILE\n",
    "    \n",
    "    if genes_to_perturb == \"all\":\n",
    "        perturb_group = False  \n",
    "    else:\n",
    "        perturb_group = True\n",
    "        if (anchor_gene != None) or (combos != 0):\n",
    "            anchor_gene = None\n",
    "            combos = 0\n",
    "            logger.warning( \n",
    "                \"anchor_gene set to None and combos set to 0. \" \\\n",
    "                \"If providing list of genes to perturb, \" \\\n",
    "                \"list of genes_to_perturb will be perturbed together, \"\\\n",
    "                \"without anchor gene or combinations.\")\n",
    "            \n",
    "    # load token dictionary (Ensembl IDs:token)\n",
    "    with open(token_dictionary_file, \"rb\") as f:\n",
    "        gene_token_dict = pickle.load(f)\n",
    "    pad_token_id = gene_token_dict.get(\"<pad>\")\n",
    "    \n",
    "    if anchor_gene is None:\n",
    "        anchor_token = None\n",
    "    else:\n",
    "        try:\n",
    "            anchor_token = [gene_token_dict[anchor_gene]]\n",
    "        except KeyError:\n",
    "            logger.error(\n",
    "                f\"Anchor gene {anchor_gene} not in token dictionary.\"\n",
    "            )\n",
    "            raise\n",
    "    \n",
    "    if genes_to_perturb == \"all\":\n",
    "        tokens_to_perturb = \"all\"\n",
    "    else:\n",
    "        missing_genes = [gene for gene in genes_to_perturb if gene not in gene_token_dict.keys()]\n",
    "        if len(missing_genes) == len(genes_to_perturb):\n",
    "            logger.error(\n",
    "                \"None of the provided genes to perturb are in token dictionary.\"\n",
    "            )\n",
    "            raise\n",
    "        elif len(missing_genes)>0:\n",
    "            logger.warning(\n",
    "                f\"Genes to perturb {missing_genes} are not in token dictionary.\")\n",
    "        tokens_to_perturb = [gene_token_dict.get(gene) for gene in genes_to_perturb]\n",
    "    print(t)\n",
    "    model_directory = '/mnt/nfs/xz/diffusion/db/Diffusion-BERT/model_out/230901_025119_model_name_gene_lr_5e-06_seed_42_numsteps_128_sample_Categorical_schedule_mutual_hybridlambda_0.01_wordfreqlambda_0.3_fromscratch_False_timestep_none_ckpts/best_0_14999.th' #diffusion12L\n",
    "    model = load_model(model_type, num_classes, model_directory)\n",
    "    layer_to_quant = quant_layers(model)+emb_layer #取哪一层的embedding\n",
    "    \n",
    "    # 读取数据\n",
    "    data_path = '/mnt/nfs/wbzhang/data/perturber/experiment/data/pbmc/tokenized_data/tokenized_pbmc.dataset'\n",
    "    raw_data = load_from_disk(data_path) \n",
    "    print('Total cell type:', set(raw_data['cell_type']))\n",
    "    choose_celltype = 'CD8T'\n",
    "    target_data = raw_data.filter(lambda x: x['cell_type'] == choose_celltype)\n",
    "    control_df = target_data.filter(lambda x: x['condition'] == 'control')\n",
    "    stimulated_df = target_data.filter(lambda x: x['condition'] == 'stimulated')\n",
    "    print('The count of control:', len(control_df))\n",
    "    print('The count of stimulated:', len(stimulated_df))\n",
    "    \n",
    "    filtered_input_data = concatenate_datasets([random_select(control_df), random_select(stimulated_df)])\n",
    "\n",
    "    # cell_states_to_model is Not None\n",
    "    state_name = cell_states_to_model[\"state_key\"]\n",
    "    state_values = filtered_input_data[state_name] # 所有state的值\n",
    "    for value in get_possible_states(cell_states_to_model):\n",
    "        if value not in state_values:\n",
    "            logger.error(\n",
    "                f\"{value} is not present in the dataset's {state_name} attribute.\")\n",
    "            raise\n",
    "    downsampled_data = downsample_and_sort(filtered_input_data, max_ncells)\n",
    "    \n",
    "    state_embs_dict = get_cell_state_avg_embs(model,\n",
    "                                              downsampled_data,\n",
    "                                              cell_states_to_model,\n",
    "                                              layer_to_quant,\n",
    "                                              pad_token_id,\n",
    "                                              forward_batch_size,\n",
    "                                              nproc)\n",
    "    cos1 = torch.nn.CosineSimilarity(dim=1)\n",
    "    print('The cos between control and stimulated:', cos1(state_embs_dict['control'], state_embs_dict['stimulated']))\n",
    "    \n",
    "    # filter for start state cells\n",
    "    start_state = cell_states_to_model[\"start_state\"] # 从0状态开始\n",
    "    def filter_for_origin(example):\n",
    "        return example[state_name] in [start_state]\n",
    "    filtered_input_data = filtered_input_data.filter(filter_for_origin, num_proc=nproc) #只选择全部数据中对应start_state的数据\n",
    "    \n",
    "    #output_path_prefix = f\"{output_directory}in_silico_{perturb_type}_{output_prefix}_dict_1Kbatch\"\n",
    "    model_input_size = get_model_input_size(model)\n",
    "    cos_sims_dict = defaultdict(list)\n",
    "    pickle_batch = -1\n",
    "    filtered_input_data = downsample_and_sort(filtered_input_data, max_ncells)\n",
    "    print('The size of filtered_input_data:', len(filtered_input_data))\n",
    "\n",
    "    #output_path_prefix = f\"{output_directory}in_silico_{perturb_type}_{output_prefix}_dict_1Kbatch\"\n",
    "    '''\n",
    "    model_input_size = get_model_input_size(model)\n",
    "    cos_sims_dict = defaultdict(list)\n",
    "    pickle_batch = -1\n",
    "    filtered_input_data = downsample_and_sort(filtered_input_data, max_ncells)\n",
    "    print('The size of filtered_input_data:', len(filtered_input_data))\n",
    "    '''\n",
    "    #选择cell的index\n",
    "    if cell_inds_to_perturb != \"all\":\n",
    "        if cell_inds_to_perturb[\"start\"] >= len(filtered_input_data):\n",
    "            logger.error(\"cell_inds_to_perturb['start'] is larger than the filtered dataset.\")\n",
    "            raise\n",
    "        if cell_inds_to_perturb[\"end\"] > len(filtered_input_data):\n",
    "            logger.warning(\"cell_inds_to_perturb['end'] is larger than the filtered dataset. \\\n",
    "                           Setting to the end of the filtered dataset.\")\n",
    "            cell_inds_to_perturb[\"end\"] = len(filtered_input_data)\n",
    "        filtered_input_data = filtered_input_data.select([i for i in range(cell_inds_to_perturb[\"start\"], cell_inds_to_perturb[\"end\"])])\n",
    "    #cell_inds_to_perturb == \"all\"\n",
    "    # perturb_group == True\n",
    "    def make_group_perturbation_batch(example):\n",
    "        example_input_ids = example[\"input_ids\"]\n",
    "        example[\"tokens_to_perturb\"] = tokens_to_perturb\n",
    "        indices_to_perturb = [example_input_ids.index(token) if token in example_input_ids else None for token in tokens_to_perturb]\n",
    "        indices_to_perturb = [item for item in indices_to_perturb if item is not None]\n",
    "        if len(indices_to_perturb) > 0:\n",
    "            example[\"perturb_index\"] = indices_to_perturb\n",
    "        else:\n",
    "            # -100 indicates tokens to overexpress are not present in rank value encoding\n",
    "            example[\"perturb_index\"] = [-100] #如果没有出现就是-100\n",
    "        if perturb_type == \"delete\":\n",
    "            example = delete_indices(example)\n",
    "        elif perturb_type == \"overexpress\":\n",
    "            example = overexpress_tokens(example) \n",
    "        return example\n",
    "        \n",
    "    perturbation_batch = filtered_input_data.map(make_group_perturbation_batch, num_proc=nproc) # 如果gene在里面，就往前调，如果没有，就直接加在前面\n",
    "    indices_to_perturb = perturbation_batch[\"perturb_index\"]\n",
    "\n",
    "    original_emb = filtered_input_data #只有这一个参数需要去特别指定 #原始的perturb矩阵\n",
    "    cos = torch.nn.CosineSimilarity(dim=2)\n",
    "    total_batch_length = len(perturbation_batch)\n",
    "    if ((total_batch_length-1)/forward_batch_size).is_integer():\n",
    "        forward_batch_size = forward_batch_size-1\n",
    "    # cell_states_to_model is Not None\n",
    "    possible_states = get_possible_states(cell_states_to_model) #可能的所有状态\n",
    "    cos_sims_vs_alt_dict = dict(zip(possible_states,[[] for i in range(len(possible_states))]))\n",
    "    #百分比修改\n",
    "    cos_sims_vs_alt_dict_percent = dict(zip(possible_states,[[] for i in range(len(possible_states))]))\n",
    "    perturbation_batch = perturbation_batch.map(\n",
    "            measure_length, num_proc=nproc\n",
    "        ) #对perturb的input_ids重新计算length\n",
    "    \n",
    "    #开始取perturb embedding\n",
    "    def compute_batch_embeddings(minibatch, _max_len = None):\n",
    "        minibatch_lengths = minibatch[\"length\"]\n",
    "        minibatch_length_set = set(minibatch_lengths)\n",
    "        max_len = model_input_size\n",
    "    \n",
    "        if (len(minibatch_length_set) > 1) or (max(minibatch_length_set) > max_len):\n",
    "            needs_pad_or_trunc = True\n",
    "        else:\n",
    "            needs_pad_or_trunc = False\n",
    "            max_len = max(minibatch_length_set)\n",
    "    \n",
    "    \n",
    "        if needs_pad_or_trunc == True:\n",
    "            if _max_len is None:\n",
    "                max_len = min(max(minibatch_length_set), max_len)\n",
    "            else:\n",
    "                max_len = _max_len\n",
    "            def pad_or_trunc_example(example):\n",
    "                example[\"input_ids\"] = pad_or_truncate_encoding(example[\"input_ids\"], \n",
    "                                                               pad_token_id, \n",
    "                                                               max_len)\n",
    "                return example\n",
    "            minibatch = minibatch.map(pad_or_trunc_example, num_proc=nproc)\n",
    "            \n",
    "        minibatch.set_format(type=\"torch\")\n",
    "        \n",
    "        input_data_minibatch = minibatch[\"input_ids\"]\n",
    "        attention_mask = gen_attention_mask(minibatch, max_len)\n",
    "        \n",
    "        # extract embeddings for perturbation minibatch\n",
    "        with torch.no_grad():\n",
    "            outputs = model(\n",
    "                input_ids = input_data_minibatch.to(\"cuda\"),\n",
    "                attention_mask = attention_mask\n",
    "            )\n",
    "    \n",
    "        return outputs, max_len\n",
    "\n",
    "    for i in range(0, total_batch_length, forward_batch_size):\n",
    "        max_range = min(i+forward_batch_size, total_batch_length)\n",
    "        perturbation_minibatch = perturbation_batch.select([i for i in range(i, max_range)]) #perturb的数据\n",
    "        outputs, mini_max_len = compute_batch_embeddings(perturbation_minibatch)\n",
    "        if len(indices_to_perturb)>1:\n",
    "            minibatch_emb = torch.squeeze(outputs.hidden_states[layer_to_quant])\n",
    "        else:\n",
    "            minibatch_emb = outputs.hidden_states[layer_to_quant]\n",
    "    \n",
    "        if perturb_type == \"overexpress\":\n",
    "            # remove overexpressed genes to quantify effect on remaining genes\n",
    "            overexpressed_to_remove = len(tokens_to_perturb)\n",
    "            minibatch_emb = minibatch_emb[:, overexpressed_to_remove: ,:]\n",
    "    \n",
    "        # perturb_group == True:\n",
    "        original_minibatch = original_emb.select([i for i in range(i, max_range)])\n",
    "        original_outputs, orig_max_len = compute_batch_embeddings(original_minibatch, mini_max_len)\n",
    "        if len(indices_to_perturb)>1:\n",
    "            original_minibatch_emb = torch.squeeze(original_outputs.hidden_states[layer_to_quant])\n",
    "        else:\n",
    "            original_minibatch_emb = original_outputs.hidden_states[layer_to_quant]\n",
    "        # if we overexpress genes that aren't already expressed,\n",
    "        # we need to remove genes to make sure the embeddings are of a consistent size\n",
    "        # get rid of the bottom n genes/padding since those will get truncated anyways\n",
    "        # multiple perturbations is more complicated because if 1 out of n perturbed genes is expressed\n",
    "        # the idxs will still not be [-100]\n",
    "        if len(tokens_to_perturb) == 1:\n",
    "            indices_to_perturb_minibatch = [idx if idx != [-100] else [orig_max_len - 1]\n",
    "                                            for idx in indices_to_perturb[i:max_range]]\n",
    "        else:\n",
    "            num_perturbed = len(tokens_to_perturb)\n",
    "            indices_to_perturb_minibatch = []\n",
    "            end_range = [i for i in range(orig_max_len - len(tokens_to_perturb), orig_max_len)]\n",
    "            for idx in indices_to_perturb[i:max_range]:\n",
    "                if idx == [-100]:\n",
    "                    indices_to_perturb_minibatch.append(end_range)\n",
    "                elif len(idx) < len(tokens_to_perturb):\n",
    "                    # 代码不对 有修改\n",
    "                    indices_to_perturb_minibatch.append(idx + end_range[-num_perturbed+len(idx):])\n",
    "                else:\n",
    "                    indices_to_perturb_minibatch.append(idx)\n",
    "        \n",
    "        original_minibatch_emb = remove_indices_from_emb_batch(original_minibatch_emb, \n",
    "                                                               indices_to_perturb_minibatch, \n",
    "                                                               gene_dim=1)\n",
    "        \n",
    "        original_minibatch_lengths = torch.tensor(original_minibatch[\"length\"], device=\"cuda\")\n",
    "        minibatch_lengths = torch.tensor(perturbation_minibatch[\"length\"], device=\"cuda\")\n",
    "        print(original_minibatch_emb.shape)\n",
    "        print(minibatch_emb.shape)\n",
    "        for state in possible_states:\n",
    "            '''\n",
    "            cos_sim_shift:有大量修改，不取mean，每个cell 的每个gene算cos，先整合起来\n",
    "            '''\n",
    "            cos_sims_vs_alt_dict[state] += cos_sim_shift_ipsc(original_minibatch_emb, \n",
    "                                                        minibatch_emb, \n",
    "                                                        state_embs_dict[state],\n",
    "                                                        perturb_group,\n",
    "                                                        torch.tensor(original_minibatch_lengths, device=\"cuda\"),\n",
    "                                                        torch.tensor(minibatch_lengths, device=\"cuda\"),\n",
    "                                                        perturb_method='cell')[0]\n",
    "            cos_sims_vs_alt_dict_percent[state] += cos_sim_shift_ipsc(original_minibatch_emb, \n",
    "                                                        minibatch_emb, \n",
    "                                                        state_embs_dict[state],\n",
    "                                                        perturb_group,\n",
    "                                                        torch.tensor(original_minibatch_lengths, device=\"cuda\"),\n",
    "                                                        torch.tensor(minibatch_lengths, device=\"cuda\"),\n",
    "                                                        perturb_method='cell')[1]\n",
    "            '''\n",
    "            cos_sim_shift到此处结束\n",
    "            '''\n",
    "        del outputs\n",
    "        del minibatch_emb\n",
    "        del mini_max_len\n",
    "        del original_minibatch\n",
    "        del original_outputs\n",
    "        del orig_max_len\n",
    "        del original_minibatch_emb\n",
    "        del original_minibatch_lengths\n",
    "        del perturbation_minibatch\n",
    "        del minibatch_lengths\n",
    "        torch.cuda.empty_cache()\n",
    "        \n",
    "    # cell_states_to_model is not None\n",
    "    for state in possible_states:\n",
    "        cos_sims_vs_alt_dict[state] = torch.cat(cos_sims_vs_alt_dict[state])\n",
    "        cos_sims_vs_alt_dict_percent[state] = torch.cat(cos_sims_vs_alt_dict_percent[state])\n",
    "\n",
    "\n",
    "    random_stimulated_list.append(cos_sims_vs_alt_dict['stimulated'])"
   ]
  },
  {
   "cell_type": "code",
   "execution_count": 163,
   "id": "24ae8a52-59de-4cd1-adf8-1e084202d8cf",
   "metadata": {},
   "outputs": [
    {
     "name": "stdout",
     "output_type": "stream",
     "text": [
      "tensor(-0.0008)\n",
      "tensor(-0.0006)\n",
      "tensor(-0.0006)\n",
      "tensor(-0.0006)\n",
      "tensor(-0.0011)\n",
      "tensor(-0.0013)\n",
      "tensor(-0.0012)\n",
      "tensor(-0.0009)\n",
      "tensor(-0.0008)\n",
      "tensor(-0.0013)\n",
      "tensor(-0.0032)\n",
      "tensor(-0.0012)\n",
      "tensor(-0.0011)\n",
      "tensor(-0.0007)\n",
      "tensor(-0.0015)\n",
      "tensor(-0.0006)\n",
      "tensor(-0.0013)\n",
      "tensor(-0.0033)\n",
      "tensor(-0.0010)\n",
      "tensor(-0.0013)\n"
     ]
    }
   ],
   "source": [
    "random_mean = 0\n",
    "for s in random_stimulated_list:\n",
    "    random_mean += s/20\n",
    "    print(torch.mean(s))"
   ]
  },
  {
   "cell_type": "code",
   "execution_count": 169,
   "id": "02666f73-af73-4e90-a918-ab893eef81c5",
   "metadata": {},
   "outputs": [
    {
     "data": {
      "text/plain": [
       "tensor(-0.0012)"
      ]
     },
     "execution_count": 169,
     "metadata": {},
     "output_type": "execute_result"
    }
   ],
   "source": [
    "torch.mean(random_mean)"
   ]
  },
  {
   "cell_type": "code",
   "execution_count": 168,
   "id": "49da1b61-574c-47cb-a679-013bc2526276",
   "metadata": {},
   "outputs": [
    {
     "data": {
      "text/plain": [
       "tensor(0.0044)"
      ]
     },
     "execution_count": 168,
     "metadata": {},
     "output_type": "execute_result"
    }
   ],
   "source": [
    "perturb_mean = cos_sims_vs_alt_dict['stimulated']\n",
    "torch.mean(perturb_mean)"
   ]
  },
  {
   "cell_type": "code",
   "execution_count": 171,
   "id": "b873605b-0f6c-458f-b46c-c298442e5715",
   "metadata": {},
   "outputs": [
    {
     "data": {
      "image/png": "[encoded data removed]",
      "text/plain": [
       "<Figure size 1280x800 with 1 Axes>"
      ]
     },
     "metadata": {},
     "output_type": "display_data"
    }
   ],
   "source": [
    "import matplotlib.pyplot as plt\n",
    "import seaborn as sns\n",
    "\n",
    "plt.figure(figsize=(16,10), dpi=80)\n",
    "sns.kdeplot(data = perturb_mean, color='b',label='5choose genes;  mean=0.0044',alpha=.9)\n",
    "sns.kdeplot(data = random_mean, color='r',label='random;  mean=-0.0012',alpha=.9)\n",
    "\n",
    "plt.title('Density Plot of the shift of IFN-β', fontsize=22)\n",
    "#plt.xlim(-0.07,0.07)\n",
    "plt.legend()\n",
    "plt.show()"
   ]
  }
 ],
 "metadata": {
  "kernelspec": {
   "display_name": "NEW_geneformer",
   "language": "python",
   "name": "new_geneformer"
  },
  "language_info": {
   "codemirror_mode": {
    "name": "ipython",
    "version": 3
   },
   "file_extension": ".py",
   "mimetype": "text/x-python",
   "name": "python",
   "nbconvert_exporter": "python",
   "pygments_lexer": "ipython3",
   "version": "3.8.12"
  }
 },
 "nbformat": 4,
 "nbformat_minor": 5
}
