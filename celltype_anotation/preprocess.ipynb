{
 "cells": [
  {
   "cell_type": "code",
   "execution_count": 1,
   "id": "0480f975-5dca-4ba6-bf0b-40c091227ca1",
   "metadata": {},
   "outputs": [],
   "source": [
    "import os\n",
    "import scanpy as sc\n",
    "import numpy as np\n",
    "import random\n",
    "from sklearn.model_selection import KFold\n",
    "import sys\n",
    "#sys.path.append('/mnt/nfs/wbzhang/scBERT') #导入需要的环境\n",
    "import dill\n",
    "import torch\n",
    "import anndata as ad\n",
    "from scipy import sparse\n",
    "from performer_pytorch import PerformerLM\n",
    "import pandas as pd"
   ]
  },
  {
   "cell_type": "markdown",
   "id": "e94731d0-5d31-4ae3-a50c-b7fb4e22c020",
   "metadata": {},
   "source": [
    "## The zheng68k data need to be processed"
   ]
  },
  {
   "cell_type": "code",
   "execution_count": null,
   "id": "0988c840-a359-4b46-a0e3-704de48d667b",
   "metadata": {},
   "outputs": [],
   "source": [
    "df_zheng = sc.read_h5ad('/mnt/nfs/wbzhang/data/celltype_annotation/zheng68k_final/data/zheng68K_updated_annotation.h5ad')\n",
    "df_zheng.var.rename(columns={'gene_ids': 'ensembl_id'}, inplace=True)\n",
    "df_zheng.obs['organ'] = ['PBMC'] * len(df_zheng)\n",
    "df_zheng.obs['n_counts'] = np.sum(df_zheng.X, axis=1).astype(int)\n",
    "df_zheng = df_zheng[df_zheng.obs.filter_pass==True]"
   ]
  },
  {
   "cell_type": "markdown",
   "id": "4c8638cd-c2e5-4d1d-a0b2-24d2c283e5ec",
   "metadata": {},
   "source": [
    "## The Code for Splitting 5-fold"
   ]
  },
  {
   "cell_type": "raw",
   "id": "5c682a74-8be0-4e7c-997d-964c3a7fa478",
   "metadata": {},
   "source": [
    "from sklearn.model_selection import KFold\n",
    "zheng_path = '/mnt/nfs/wbzhang/data/celltype_annotation/zheng68k_final/data/scbert/preprocessed_data.h5ad'\n",
    "data = sc.read_h5ad(zheng_path)\n",
    "path = '/mnt/nfs/wbzhang/data/celltype_annotation/zheng68k_final/data/scbert/5_fold'\n",
    "total_number = np.arange(0, data.X.shape[0])\n",
    "kfold = KFold(n_splits=5, shuffle=True, random_state=2023)\n",
    "number = 0\n",
    "for train, test in kfold.split(total_number):\n",
    "    train_data = data[train]\n",
    "    test_data = data[test]\n",
    "    train_data.write(path + '/fold' + str(number)+ '_train.h5ad')\n",
    "    test_data.write(path + '/fold' + str(number)+ '_test.h5ad')\n",
    "    number += 1"
   ]
  },
  {
   "cell_type": "code",
   "execution_count": 3,
   "id": "2bfb1b2f-f5d2-478f-8fbf-d6b349afdb7b",
   "metadata": {},
   "outputs": [],
   "source": [
    "from sklearn.model_selection import KFold\n",
    "kfold = KFold(n_splits=5, shuffle=True, random_state=2023)"
   ]
  },
  {
   "cell_type": "markdown",
   "id": "b78ad0ee-648c-46e1-8abd-2684f88fd6e0",
   "metadata": {},
   "source": [
    "## The processing code for geneformer\n",
    "The input must be this specific shape"
   ]
  },
  {
   "cell_type": "raw",
   "id": "cb5ada78-cab3-41e7-ac0a-a10946a0c7b8",
   "metadata": {},
   "source": [
    "df_zheng = sc.read_h5ad('/mnt/nfs/wbzhang/data/celltype_annotation/zheng68k_final/data/zheng68K_updated_annotation.h5ad')\n",
    "df_zheng.var.rename(columns={'gene_ids': 'ensembl_id'}, inplace=True)\n",
    "df_zheng.obs['organ'] = ['PBMC'] * len(df_zheng)\n",
    "df_zheng.obs['n_counts'] = np.sum(df_zheng.X, axis=1).astype(int)\n",
    "df_zheng = df_zheng[df_zheng.obs.filter_pass==True]"
   ]
  },
  {
   "cell_type": "markdown",
   "id": "40a0eeee-85f4-4d06-8168-d0823fb2ff53",
   "metadata": {},
   "source": [
    "## The preprocessing code for scbert\n",
    "\n",
    "The input data must be the same dimension of panglao_10000"
   ]
  },
  {
   "cell_type": "raw",
   "id": "b9ae8c15-1c15-460b-94e9-6c2275ac0742",
   "metadata": {},
   "source": [
    "df_zheng = sc.read_h5ad('/mnt/nfs/wbzhang/data/celltype_annotation/zheng68k_final/data/zheng68K_updated_annotation.h5ad')\n",
    "panglao = sc.read_h5ad('/mnt/nfs/xz/scbert/scBERT_multinode_master/data/panglao_10000.h5ad')\n",
    "data = df_zheng\n",
    "counts = sparse.lil_matrix((data.X.shape[0],panglao.X.shape[1]),dtype=np.float32)\n",
    "ref = panglao.var_names.tolist()\n",
    "obj = data.var_names.tolist()\n",
    "\n",
    "same_gene = list(set(obj).intersection(set(ref)))\n",
    "obj_idx = list(map(lambda x:obj.index(x), same_gene))\n",
    "ref_idx = list(map(lambda x:ref.index(x), same_gene))\n",
    "counts[:,ref_idx] = data.X[:,obj_idx]\n",
    "\n",
    "counts = counts.tocsr()\n",
    "print(counts.shape)\n",
    "new = ad.AnnData(X=counts)\n",
    "new.var_names = ref\n",
    "new.obs_names = data.obs_names\n",
    "new.obs = data.obs\n",
    "new.uns = panglao.uns\n",
    "\n",
    "sc.pp.filter_cells(new, min_genes=200)\n",
    "sc.pp.normalize_total(new, target_sum=1e4)\n",
    "sc.pp.log1p(new, base=2)\n",
    "\n",
    "new.write('/mnt/nfs/wbzhang/data/celltype_annotation/zheng68k_final/data/scbert/preprocessed_data.h5ad')"
   ]
  }
 ],
 "metadata": {
  "kernelspec": {
   "display_name": "Python 3 (ipykernel)",
   "language": "python",
   "name": "python3"
  },
  "language_info": {
   "codemirror_mode": {
    "name": "ipython",
    "version": 3
   },
   "file_extension": ".py",
   "mimetype": "text/x-python",
   "name": "python",
   "nbconvert_exporter": "python",
   "pygments_lexer": "ipython3",
   "version": "3.8.12"
  }
 },
 "nbformat": 4,
 "nbformat_minor": 5
}
